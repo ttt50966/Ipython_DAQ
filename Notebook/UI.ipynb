{
 "cells": [
  {
   "cell_type": "code",
   "execution_count": 8,
   "metadata": {},
   "outputs": [],
   "source": [
    "import time\n",
    "from ipywidgets import interact, interactive, fixed, interact_manual\n",
    "import ipywidgets as widgets\n",
    "from IPython.display import display, Markdown, Latex\n",
    "widget_sweep_current = widgets.FloatText(\n",
    "    value=20,\n",
    "    description='Current (A):',\n",
    "    disabled=False)\n",
    "widget_sweep_pts = widgets.Dropdown(\n",
    "    options=['1', '21','51','101', '201','401','801','1601'],\n",
    "    value='401',\n",
    "    description='Sweep points:',\n",
    "    disabled=False,\n",
    ")\n",
    "widget_freq = widgets.FloatText(\n",
    "    value=7,\n",
    "    description='Freq. (GHz):',\n",
    "    disabled=False\n",
    ")\n",
    "widget_IF_BAND = widgets.Dropdown(\n",
    "    options=['10.0','100.0','1000.0','10000.0'],\n",
    "    value='10.0',\n",
    "    description='IF Bandwidth (Hz):',\n",
    "    disabled=False,\n",
    ")\n",
    "widget_S_para = widgets.Dropdown(\n",
    "    options=['S11', 'S21', 'S12', 'S22'],\n",
    "    value='S12',\n",
    "    description='S paramter:',\n",
    "    disabled=False,\n",
    ")\n",
    "widget_delay = widgets.FloatText(\n",
    "    value=1,\n",
    "    description='Delay time (s):',\n",
    "    disabled=False\n",
    ")\n"
   ]
  },
  {
   "cell_type": "code",
   "execution_count": 9,
   "metadata": {},
   "outputs": [
    {
     "data": {
      "application/vnd.jupyter.widget-view+json": {
       "model_id": "827398dff3a44d629860b239ad900993",
       "version_major": 2,
       "version_minor": 0
      },
      "text/plain": [
       "VBox(children=(FloatText(value=20.0, description='Current (A):'), Dropdown(description='Sweep points:', index=…"
      ]
     },
     "metadata": {},
     "output_type": "display_data"
    }
   ],
   "source": [
    "p = widgets.FloatProgress(\n",
    "    value=0,\n",
    "    min=0,\n",
    "    max=100.0,\n",
    "    step=0.01,\n",
    "    description='DAQ Progress',\n",
    "    bar_style='info',\n",
    "    orientation='horizontal'\n",
    ")\n",
    "\n",
    "left_box = widgets.VBox([widget_sweep_current,\n",
    "                         widget_sweep_pts,\n",
    "                         widget_freq,\n",
    "                         widget_IF_BAND,\n",
    "                         widget_S_para,\n",
    "                         widget_delay,\n",
    "                         p])\n",
    "left_box"
   ]
  },
  {
   "cell_type": "code",
   "execution_count": 6,
   "metadata": {},
   "outputs": [
    {
     "data": {
      "application/vnd.jupyter.widget-view+json": {
       "model_id": "2eaee6d6400e4cf0afb0ac4ecf709f64",
       "version_major": 2,
       "version_minor": 0
      },
      "text/plain": [
       "FigureCanvasNbAgg()"
      ]
     },
     "metadata": {},
     "output_type": "display_data"
    }
   ],
   "source": [
    "%matplotlib widget\n",
    "import numpy as np\n",
    "import time\n",
    "import matplotlib.pyplot as plt\n",
    " \n",
    "n = []\n",
    "\n",
    "fig = plt.figure()\n",
    "ax = fig.add_subplot(111)\n",
    "plt.ion()\n",
    "\n",
    "fig.show()\n",
    "fig.canvas.draw()\n",
    "\n",
    "for i in range(0,100):\n",
    "    time.sleep(0.2)\n",
    "    n.append(np.random.rand())\n",
    "    ax.clear()\n",
    "    ax.plot(n)\n",
    "    fig.canvas.draw()"
   ]
  },
  {
   "cell_type": "code",
   "execution_count": null,
   "metadata": {},
   "outputs": [],
   "source": []
  }
 ],
 "metadata": {
  "kernelspec": {
   "display_name": "Python 3",
   "language": "python",
   "name": "python3"
  },
  "language_info": {
   "codemirror_mode": {
    "name": "ipython",
    "version": 3
   },
   "file_extension": ".py",
   "mimetype": "text/x-python",
   "name": "python",
   "nbconvert_exporter": "python",
   "pygments_lexer": "ipython3",
   "version": "3.6.7"
  }
 },
 "nbformat": 4,
 "nbformat_minor": 2
}
