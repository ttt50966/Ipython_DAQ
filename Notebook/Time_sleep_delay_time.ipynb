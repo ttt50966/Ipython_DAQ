{
 "cells": [
  {
   "cell_type": "markdown",
   "metadata": {},
   "source": [
    "## Time.sleep Delay time"
   ]
  },
  {
   "cell_type": "code",
   "execution_count": 26,
   "metadata": {},
   "outputs": [
    {
     "data": {
      "text/plain": [
       "0.0008820000000000008"
      ]
     },
     "execution_count": 26,
     "metadata": {},
     "output_type": "execute_result"
    }
   ],
   "source": [
    "from datetime import datetime\n",
    "import time\n",
    "import numpy as np\n",
    "import matplotlib\n",
    "\n",
    "def check_sleep(amount):\n",
    "    start = datetime.now()\n",
    "    time.sleep(amount)\n",
    "    end = datetime.now()\n",
    "    delta = end-start\n",
    "    return abs(delta.seconds + delta.microseconds/1000000.0 - amount)\n",
    "\n",
    "def avg_err(x,t):\n",
    "    sum = 0\n",
    "    for x in range(t):\n",
    "        sum = sum + check_sleep(x)"
   ]
  }
 ],
 "metadata": {
  "kernelspec": {
   "display_name": "Python 3",
   "language": "python",
   "name": "python3"
  },
  "language_info": {
   "codemirror_mode": {
    "name": "ipython",
    "version": 3
   },
   "file_extension": ".py",
   "mimetype": "text/x-python",
   "name": "python",
   "nbconvert_exporter": "python",
   "pygments_lexer": "ipython3",
   "version": "3.6.7"
  }
 },
 "nbformat": 4,
 "nbformat_minor": 2
}
