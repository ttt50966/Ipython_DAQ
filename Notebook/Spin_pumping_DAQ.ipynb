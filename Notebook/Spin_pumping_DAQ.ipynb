{
 "cells": [
  {
   "cell_type": "markdown",
   "metadata": {},
   "source": [
    "# Spin pumping program\n",
    "**`author`**: `Kuan-Chia Chiu`  \n",
    "**`update`**: `2018-12-13`  \n",
    "**`package`**: `pyvisa`, `serial`, `ipywidgets`"
   ]
  },
  {
   "cell_type": "markdown",
   "metadata": {},
   "source": [
    "## Check available intruments\n",
    "and only rum this cell once"
   ]
  },
  {
   "cell_type": "code",
   "execution_count": 6,
   "metadata": {
    "inputHidden": false
   },
   "outputs": [
    {
     "name": "stdout",
     "output_type": "stream",
     "text": [
      "Instruments\n",
      "------------\n",
      "0. ASRL4::INSTR, \n",
      "\n",
      "1. ASRL5::INSTR, \n",
      "\n",
      "\n",
      "\n"
     ]
    }
   ],
   "source": [
    "import visa\n",
    "import time\n",
    "import serial\n",
    "from ipywidgets import interact, interactive, fixed, interact_manual\n",
    "import ipywidgets as widgets\n",
    "from IPython.display import display, Markdown, Latex\n",
    "\n",
    "print(\"Instruments\")\n",
    "print(\"------------\")\n",
    "\n",
    "rm = visa.ResourceManager()\n",
    "res = rm.list_resources()\n",
    "vna_dict =[]\n",
    "for x in range(0, len(res)):\n",
    "    vna_dict.append(res[x])\n",
    "    print(\"{}. \".format(x) + res[x] + \", \\n\")\n",
    "print(\"\\n\")\n",
    "\n",
    "measure_number = 1\n",
    "graph_number = 1\n"
   ]
  },
  {
   "cell_type": "markdown",
   "metadata": {
    "inputHidden": false,
    "outputHidden": false
   },
   "source": [
    "## GPIB ADDRESS"
   ]
  },
  {
   "cell_type": "code",
   "execution_count": 17,
   "metadata": {},
   "outputs": [
    {
     "data": {
      "text/markdown": [
       "## Address Selection"
      ],
      "text/plain": [
       "<IPython.core.display.Markdown object>"
      ]
     },
     "metadata": {},
     "output_type": "display_data"
    },
    {
     "data": {
      "application/vnd.jupyter.widget-view+json": {
       "model_id": "56c4c035b19f4fe0991bec7b87b51728",
       "version_major": 2,
       "version_minor": 0
      },
      "text/plain": [
       "Accordion(children=(ToggleButtons(description='Power Sup.', options=('ASRL4::INSTR', 'ASRL5::INSTR'), value='A…"
      ]
     },
     "metadata": {},
     "output_type": "display_data"
    }
   ],
   "source": [
    "KEPCO_address = widgets.ToggleButtons(\n",
    "    options=vna_dict,\n",
    "    description=\"Power Sup.\",\n",
    "    disabled=False,\n",
    "    button_style='', # 'success', 'info', 'warning', 'danger' or ''\n",
    "    tooltips=[],\n",
    "    #icons=['check'] * 3\n",
    ")\n",
    "VNA_address = widgets.ToggleButtons(\n",
    "    options=vna_dict,\n",
    "    description=\"Kesight VNA\",\n",
    "    disabled=False,\n",
    "    button_style='', # 'success', 'info', 'warning', 'danger' or ''\n",
    "    tooltips=[],\n",
    "#     icons=['check'] * 3\n",
    ")\n",
    "LakeShore_address = widgets.Text()\n",
    "\n",
    "display(Markdown('## Address Selection'))\n",
    "\n",
    "accordion = widgets.Accordion(children=[KEPCO_address, LakeShore_address, VNA_address])\n",
    "accordion.set_title(0, 'Power Supply (KEPCO)')\n",
    "accordion.set_title(1, 'Gauss meter (LakeShore)')\n",
    "accordion.set_title(2, 'VNA (Kesight)')\n",
    "accordion"
   ]
  },
  {
   "cell_type": "code",
   "execution_count": 5,
   "metadata": {
    "inputHidden": false
   },
   "outputs": [
    {
     "name": "stdout",
     "output_type": "stream",
     "text": [
      "Lake Shore Connected\n",
      "KEPCO Connected\n",
      "VNA Connected\n"
     ]
    }
   ],
   "source": [
    "ser = serial.Serial(LakeShore_address.value, 57600,bytesize=7, parity=serial.PARITY_ODD, stopbits=1)\n",
    "print(\"Lake Shore Connected\")\n",
    "KEPCO = rm.open_resource(KEPCO_address.value)\n",
    "print(\"KEPCO Connected\")\n",
    "vna = rm.open_resource(VNA_address.value)\n",
    "print(\"VNA Connected\")"
   ]
  },
  {
   "cell_type": "markdown",
   "metadata": {
    "inputHidden": false,
    "outputHidden": false
   },
   "source": [
    "## Parameter Settings"
   ]
  },
  {
   "cell_type": "code",
   "execution_count": 35,
   "metadata": {},
   "outputs": [
    {
     "data": {
      "application/vnd.jupyter.widget-view+json": {
       "model_id": "b056327a474d4a37819394ce42bb82a7",
       "version_major": 2,
       "version_minor": 0
      },
      "text/plain": [
       "Accordion(children=(FloatText(value=20.0, description='Current (A):'), Dropdown(description='Sweep points:', i…"
      ]
     },
     "metadata": {},
     "output_type": "display_data"
    }
   ],
   "source": [
    "widget_sweep_current = widgets.FloatText(\n",
    "    value=20,\n",
    "    description='Current (A):',\n",
    "    disabled=False)\n",
    "widget_sweep_pts = widgets.Dropdown(\n",
    "    options=['1', '51','101', '201','401','801','1601'],\n",
    "    value='401',\n",
    "    description='Sweep points:',\n",
    "    disabled=False,\n",
    ")\n",
    "widget_freq = widgets.FloatText(\n",
    "    value=7.5,\n",
    "    description='Freq. (GHz):',\n",
    "    disabled=False\n",
    ")\n",
    "widget_IF_BAND = widgets.Dropdown(\n",
    "    options=['10.0','100.0','1000.0','10000.0'],\n",
    "    value='10.0',\n",
    "    description='IF Bandwidth (Hz):',\n",
    "    disabled=False,\n",
    ")\n",
    "widget_S_para = widgets.Dropdown(\n",
    "    options=['S11', 'S21', 'S12', 'S22'],\n",
    "    value='S12',\n",
    "    description='S paramter:',\n",
    "    disabled=False,\n",
    ")\n",
    "widget_delay = widgets.FloatText(\n",
    "    value=1,\n",
    "    description='Delay time (s):',\n",
    "    disabled=False\n",
    ")\n",
    "accordion = widgets.Accordion(children=[widget_sweep_current,\n",
    "                                        widget_sweep_pts,\n",
    "                                       widget_freq,\n",
    "                                       widget_IF_BAND,\n",
    "                                       widget_S_para,\n",
    "                                       widget_delay])\n",
    "accordion.set_title(0, 'Sweep Current')\n",
    "accordion.set_title(1, 'Sweep points')\n",
    "accordion.set_title(2, 'Frequency')\n",
    "accordion.set_title(3, 'IF Bandwidth')\n",
    "accordion.set_title(4, 'S parameter')\n",
    "accordion.set_title(5, 'Delay time')\n",
    "accordion"
   ]
  },
  {
   "cell_type": "code",
   "execution_count": 6,
   "metadata": {
    "collapsed": false,
    "inputHidden": false,
    "outputHidden": false
   },
   "outputs": [],
   "source": [
    "#### Here start to give a current\n",
    "sweep_current = float(widget_sweep_current.value)\n",
    "sweep_pts = int(widget_sweep_pts.value)\n",
    "freq = float(widget_freq.value) * 1000000000\n",
    "IF_BAND = float(widget_IF_BAND)\n",
    "S_para = widget_S_para.value\n",
    "delay = float(widget_delay.value)\n",
    "\n",
    "\n",
    "#### Generate File name\n",
    "import os\n",
    "import datetime as date\n",
    "year = date.datetime.now().year\n",
    "day = date.datetime.now().day\n",
    "month = date.datetime.now().month\n",
    "data_Storage_PATH = 'C:\\\\Users\\\\KC\\\\Ipython notebook\\\\{}{}{}\\\\'.format(year, month, day)\n",
    "\n",
    "if not os.path.exists(data_Storage_PATH):\n",
    "    os.mkdir(data_Storage_PATH)"
   ]
  },
  {
   "cell_type": "markdown",
   "metadata": {},
   "source": [
    "## DAQ Progress bar"
   ]
  },
  {
   "cell_type": "code",
   "execution_count": 34,
   "metadata": {},
   "outputs": [
    {
     "data": {
      "text/markdown": [
       "## DAQ Progress"
      ],
      "text/plain": [
       "<IPython.core.display.Markdown object>"
      ]
     },
     "metadata": {},
     "output_type": "display_data"
    },
    {
     "data": {
      "application/vnd.jupyter.widget-view+json": {
       "model_id": "41af4e16be8f453fae7d159c9b1a6bb4",
       "version_major": 2,
       "version_minor": 0
      },
      "text/plain": [
       "FloatProgress(value=0.0, bar_style='info')"
      ]
     },
     "metadata": {},
     "output_type": "display_data"
    }
   ],
   "source": [
    "p = widgets.FloatProgress(\n",
    "    value=0,\n",
    "    min=0,\n",
    "    max=100.0,\n",
    "    step=0.01,\n",
    "    description='',\n",
    "    bar_style='info',\n",
    "    orientation='horizontal'\n",
    ")\n",
    "display(Markdown('## DAQ Progress'))\n",
    "p"
   ]
  },
  {
   "cell_type": "markdown",
   "metadata": {},
   "source": [
    "## DAQ"
   ]
  },
  {
   "cell_type": "code",
   "execution_count": 7,
   "metadata": {
    "inputHidden": false
   },
   "outputs": [
    {
     "name": "stdout",
     "output_type": "stream",
     "text": [
      "Run it!\n"
     ]
    }
   ],
   "source": [
    "print(\"Run it!\")\n",
    "vna.timeout=10000\n",
    "vna.write(\"SYST:PRESET\")\n",
    "vna.write(\"CALC:PAR:DEF 'My_{}', {}\".format(S_para,S_para))\n",
    "vna.write(\"DISPlay:WINDow1:STATe ON\")\n",
    "vna.write(\"DISPlay:WINDow1:TRACe1:FEED 'My_{}'\".format(S_para))\n",
    "vna.write(\"INITiate1:CONTinuous OFF;*OPC?\")\n",
    "opc = vna.read() # wait unitl complete\n",
    "\n",
    "vna.write(\"SENSe1:SWEep:TRIGger:POINt OFF\")\n",
    "vna.write(\"SENSe1:SWEep:POINts {}\".format(sweep_pts))\n",
    "vna.write(\"SENSe1:SWEep:TIME {}\".format(sweep_pts-1))\n",
    "vna.write(\"SENSe1:BAND {}\".format(IF_BAND))\n",
    "vna.write(\"SENSe1:FREQuency:STARt {}\".format(freq))\n",
    "vna.write(\"SENSe1:FREQuency:STOP {}\".format(freq))\n",
    "\n",
    "\n",
    "\n",
    "KEPCO.timeout=10000\n",
    "KEPCO.write(\"FUNC:MODE CURR\")\n",
    "KEPCO.write(\"volt 0.000;curr 0.000\")\n",
    "KEPCO.write(\"OUTPUT ON\")\n",
    "Field_data = []\n",
    "Current_data = []\n",
    "#### Start to run VNA and Power Supply\n",
    "vna.write(\"INITiate1;\")\n",
    "for i in range(sweep_pts):\n",
    "    KEPCO.write(\"volt  20.000;curr {:.4f}\".format(i*sweep_current/(sweep_pts-1)))\n",
    "    time.sleep(delay)\n",
    "    Current = str(i*sweep_current/(sweep_pts-1))\n",
    "    Current_data.append(Current)\n",
    "    ser.write(b'RDGFIELD?\\n')\n",
    "    Field = ser.readline()\n",
    "    Field_data.append(Field.decode('utf8'))\n",
    "    #### Progress bar #### \n",
    "    p.value(i/sweep_pts*100)\n",
    "    #####################\n",
    "    time.sleep(0.1)\n",
    "\n",
    "KEPCO.write(\"OUTPUT OFF\")\n",
    "KEPCO.write(\"volt 0.000;curr 0.000\")\n",
    "####\n",
    "\n",
    " \n",
    "#Must select the measurement before we can read the data\n",
    "vna.write(\"CALCulate1:PARameter:SELect 'My_S21'\")\n",
    " \n",
    "#Read the measurement data into the \"result\" string variable\n",
    "vna.write(\"FORMat ASCII\")\n",
    "vna.write(\"CALCulate1:DATA? FDATA\")\n",
    "result = vna.read()\n",
    "#print(result)\n"
   ]
  },
  {
   "cell_type": "markdown",
   "metadata": {},
   "source": [
    "## Save Data to txt file"
   ]
  },
  {
   "cell_type": "code",
   "execution_count": 9,
   "metadata": {
    "collapsed": false,
    "inputHidden": false,
    "outputHidden": false
   },
   "outputs": [
    {
     "name": "stdout",
     "output_type": "stream",
     "text": [
      "C:\\Users\\KC\\Ipython notebook\\20181213\\20181213_S21_20A_delay1s_7GHz_Meas_02.txt\n"
     ]
    }
   ],
   "source": [
    "from pathlib import Path\n",
    "measure_number = 1\n",
    "data_str = \"{}{}{}_{}_{}A_delay{}s_{:.0f}GHz_Meas_{:0>2d}\".format(year,month,day,S_para,sweep_current,delay,freq/1000000000,measure_number)\n",
    "my_file = Path(data_Storage_PATH+data_str+'.txt')\n",
    "\n",
    "while my_file.is_file():\n",
    "    measure_number = measure_number + 1\n",
    "    data_str = \"{}{}{}_{}_{}A_delay{}s_{:.0f}GHz_Meas_{:0>2d}\".format(year,month,day,S_para,sweep_current,delay,freq/1000000000,measure_number)\n",
    "    my_file = Path(data_Storage_PATH+data_str+'.txt')\n",
    "print(my_file) \n",
    "with open(data_str+'.txt', 'w') as f:\n",
    "    f.write('Field\\s(G)\\t{}\\s(G)\\n'.format(S_para))\n",
    "    for j in range(sweep_pts):\n",
    "        f.write('{}\\t{}\\n'.format(Field_data[j][:-2],result.split(',')[j]))\n",
    "f.close()"
   ]
  },
  {
   "cell_type": "markdown",
   "metadata": {},
   "source": [
    "## Plotly Settings"
   ]
  },
  {
   "cell_type": "code",
   "execution_count": 10,
   "metadata": {
    "collapsed": false,
    "inputHidden": false,
    "outputHidden": false
   },
   "outputs": [
    {
     "data": {
      "text/html": [
       "<script type=\"text/javascript\">window.PlotlyConfig = {MathJaxConfig: 'local'};</script><script type=\"text/javascript\">if (window.MathJax) {MathJax.Hub.Config({SVG: {font: \"STIX-Web\"}});}</script><script>requirejs.config({paths: { 'plotly': ['https://cdn.plot.ly/plotly-latest.min']},});if(!window._Plotly) {require(['plotly'],function(plotly) {window._Plotly=plotly;});}</script>"
      ],
      "text/vnd.plotly.v1+html": [
       "<script type=\"text/javascript\">window.PlotlyConfig = {MathJaxConfig: 'local'};</script><script type=\"text/javascript\">if (window.MathJax) {MathJax.Hub.Config({SVG: {font: \"STIX-Web\"}});}</script><script>requirejs.config({paths: { 'plotly': ['https://cdn.plot.ly/plotly-latest.min']},});if(!window._Plotly) {require(['plotly'],function(plotly) {window._Plotly=plotly;});}</script>"
      ]
     },
     "metadata": {},
     "output_type": "display_data"
    }
   ],
   "source": [
    "import plotly as py\n",
    "from plotly.graph_objs import Scatter, Layout\n",
    "from plotly.offline import download_plotlyjs, init_notebook_mode, plot, iplot\n",
    "init_notebook_mode(connected=True)\n",
    "import plotly.graph_objs as go\n",
    "\n",
    "##### change parameter #####\n",
    "layout_title = '20181213_S21_test_our_CPW'\n",
    "x_axis = 'Magnetic Field (G)'\n",
    "y_axis = 'S21 (dB)'\n",
    "\n",
    "############################\n",
    "\n",
    "layout = go.Layout(\n",
    "    margin = dict(l = 105, r = 50, b = 70, t = 50, pad = 4),\n",
    "    title = layout_title,\n",
    "    titlefont = dict(size=32),\n",
    "    font = dict(size=16),\n",
    "    xaxis=dict(\n",
    "        title = x_axis,\n",
    "        titlefont=dict(\n",
    "            size=22,\n",
    "        ),\n",
    "        showgrid=True,\n",
    "        zeroline=True,\n",
    "        showline=True,\n",
    "        mirror='ticks',\n",
    "        gridcolor='#bdbdbd',\n",
    "        gridwidth=2,\n",
    "        zerolinecolor='#969696',\n",
    "        zerolinewidth=4,\n",
    "        linecolor='#636363',\n",
    "        linewidth=6\n",
    "    ),\n",
    "    yaxis=dict(\n",
    "        title = y_axis,\n",
    "        titlefont=dict(\n",
    "            size=22,\n",
    "        ),\n",
    "        showgrid=True,\n",
    "        zeroline=True,\n",
    "        showline=True,\n",
    "        mirror='ticks',\n",
    "        gridcolor='#bdbdbd',\n",
    "        gridwidth=2,\n",
    "        zerolinecolor='#969696',\n",
    "        zerolinewidth=4,\n",
    "        linecolor='#636363',\n",
    "        linewidth=6\n",
    "    )\n",
    ")"
   ]
  },
  {
   "cell_type": "code",
   "execution_count": 12,
   "metadata": {
    "collapsed": false,
    "inputHidden": false,
    "outputHidden": false
   },
   "outputs": [
    {
     "data": {
      "application/vnd.plotly.v1+json": {
       "config": {
        "linkText": "Export to plot.ly",
        "plotlyServerURL": "https://plot.ly",
        "showLink": true
       },
       "data": [
        {
         "name": "Original data",
         "type": "scatter",
         "uid": "3ac07f8b-8c9f-4cd3-b689-41e723bf8a13",
         "x": [
          "+09.1670E+00\r\n",
          "+16.7380E+00\r\n",
          "+24.8870E+00\r\n",
          "+033.230E+00\r\n",
          "+041.750E+00\r\n",
          "+050.100E+00\r\n",
          "+058.450E+00\r\n",
          "+066.850E+00\r\n",
          "+075.240E+00\r\n",
          "+083.930E+00\r\n",
          "+092.340E+00\r\n",
          "+100.800E+00\r\n",
          "+109.240E+00\r\n",
          "+117.700E+00\r\n",
          "+126.160E+00\r\n",
          "+134.910E+00\r\n",
          "+143.370E+00\r\n",
          "+151.850E+00\r\n",
          "+160.330E+00\r\n",
          "+168.830E+00\r\n",
          "+177.310E+00\r\n",
          "+186.110E+00\r\n",
          "+194.620E+00\r\n",
          "+203.140E+00\r\n",
          "+211.630E+00\r\n",
          "+220.150E+00\r\n",
          "+228.680E+00\r\n",
          "+237.480E+00\r\n",
          "+246.020E+00\r\n",
          "+254.550E+00\r\n",
          "+263.090E+00\r\n",
          "+271.640E+00\r\n",
          "+280.180E+00\r\n",
          "+289.000E+00\r\n",
          "+297.540E+00\r\n",
          "+0.30630E+03\r\n",
          "+0.31460E+03\r\n",
          "+0.32320E+03\r\n",
          "+0.33170E+03\r\n",
          "+0.34050E+03\r\n",
          "+0.34910E+03\r\n",
          "+0.35770E+03\r\n",
          "+0.36620E+03\r\n",
          "+0.37480E+03\r\n",
          "+0.38340E+03\r\n",
          "+0.39220E+03\r\n",
          "+0.40080E+03\r\n",
          "+0.40940E+03\r\n",
          "+0.41800E+03\r\n",
          "+0.42660E+03\r\n",
          "+0.43520E+03\r\n",
          "+0.44400E+03\r\n",
          "+0.45260E+03\r\n",
          "+0.46120E+03\r\n",
          "+0.46990E+03\r\n",
          "+0.47840E+03\r\n",
          "+0.48710E+03\r\n",
          "+0.49590E+03\r\n",
          "+0.50460E+03\r\n",
          "+0.51320E+03\r\n",
          "+0.52180E+03\r\n",
          "+0.53040E+03\r\n",
          "+0.53900E+03\r\n",
          "+0.54790E+03\r\n",
          "+0.55660E+03\r\n",
          "+0.56520E+03\r\n",
          "+0.57380E+03\r\n",
          "+0.58240E+03\r\n",
          "+0.59110E+03\r\n",
          "+0.60000E+03\r\n",
          "+0.60860E+03\r\n",
          "+0.61730E+03\r\n",
          "+0.62590E+03\r\n",
          "+0.63460E+03\r\n",
          "+0.64320E+03\r\n",
          "+0.65210E+03\r\n",
          "+0.66070E+03\r\n",
          "+0.66940E+03\r\n",
          "+0.67800E+03\r\n",
          "+0.68670E+03\r\n",
          "+0.69530E+03\r\n",
          "+0.70430E+03\r\n",
          "+0.71290E+03\r\n",
          "+0.72160E+03\r\n",
          "+0.73020E+03\r\n",
          "+0.73890E+03\r\n",
          "+0.74750E+03\r\n",
          "+0.75650E+03\r\n",
          "+0.76510E+03\r\n",
          "+0.77380E+03\r\n",
          "+0.78240E+03\r\n",
          "+0.79110E+03\r\n",
          "+0.79970E+03\r\n",
          "+0.80870E+03\r\n",
          "+0.81730E+03\r\n",
          "+0.82600E+03\r\n",
          "+0.83470E+03\r\n",
          "+0.84330E+03\r\n",
          "+0.85200E+03\r\n",
          "+0.86090E+03\r\n",
          "+0.86960E+03\r\n",
          "+0.87820E+03\r\n",
          "+0.88690E+03\r\n",
          "+0.89550E+03\r\n",
          "+0.90420E+03\r\n",
          "+0.91320E+03\r\n",
          "+0.92180E+03\r\n",
          "+0.93050E+03\r\n",
          "+0.93910E+03\r\n",
          "+0.94780E+03\r\n",
          "+0.95640E+03\r\n",
          "+0.96540E+03\r\n",
          "+0.97410E+03\r\n",
          "+0.98270E+03\r\n",
          "+0.99140E+03\r\n",
          "+1.00000E+03\r\n",
          "+1.00870E+03\r\n",
          "+1.01760E+03\r\n",
          "+1.02630E+03\r\n",
          "+1.03490E+03\r\n",
          "+1.04360E+03\r\n",
          "+1.05220E+03\r\n",
          "+1.06090E+03\r\n",
          "+1.06980E+03\r\n",
          "+1.07850E+03\r\n",
          "+1.08710E+03\r\n",
          "+1.09580E+03\r\n",
          "+1.10440E+03\r\n",
          "+1.11310E+03\r\n",
          "+1.12200E+03\r\n",
          "+1.13070E+03\r\n",
          "+1.13930E+03\r\n",
          "+1.14800E+03\r\n",
          "+1.15660E+03\r\n",
          "+1.16530E+03\r\n",
          "+1.17420E+03\r\n",
          "+1.18290E+03\r\n",
          "+1.19150E+03\r\n",
          "+1.20020E+03\r\n",
          "+1.20880E+03\r\n",
          "+1.21770E+03\r\n",
          "+1.22640E+03\r\n",
          "+1.23510E+03\r\n",
          "+1.24370E+03\r\n",
          "+1.25230E+03\r\n",
          "+1.26100E+03\r\n",
          "+1.26990E+03\r\n",
          "+1.27860E+03\r\n",
          "+1.28720E+03\r\n",
          "+1.29580E+03\r\n",
          "+1.30450E+03\r\n",
          "+1.31310E+03\r\n",
          "+1.32200E+03\r\n",
          "+1.33070E+03\r\n",
          "+1.33930E+03\r\n",
          "+1.34800E+03\r\n",
          "+1.35660E+03\r\n",
          "+1.36530E+03\r\n",
          "+1.37420E+03\r\n",
          "+1.38280E+03\r\n",
          "+1.39150E+03\r\n",
          "+1.40010E+03\r\n",
          "+1.40870E+03\r\n",
          "+1.41740E+03\r\n",
          "+1.42630E+03\r\n",
          "+1.43490E+03\r\n",
          "+1.44350E+03\r\n",
          "+1.45220E+03\r\n",
          "+1.46080E+03\r\n",
          "+1.46940E+03\r\n",
          "+1.47830E+03\r\n",
          "+1.48700E+03\r\n",
          "+1.49560E+03\r\n",
          "+1.50420E+03\r\n",
          "+1.51280E+03\r\n",
          "+1.52150E+03\r\n",
          "+1.53040E+03\r\n",
          "+1.53900E+03\r\n",
          "+1.54760E+03\r\n",
          "+1.55620E+03\r\n",
          "+1.56480E+03\r\n",
          "+1.57350E+03\r\n",
          "+1.58240E+03\r\n",
          "+1.59100E+03\r\n",
          "+1.59960E+03\r\n",
          "+1.60820E+03\r\n",
          "+1.61680E+03\r\n",
          "+1.62540E+03\r\n",
          "+1.63430E+03\r\n",
          "+1.64290E+03\r\n",
          "+1.65160E+03\r\n",
          "+1.66020E+03\r\n",
          "+1.66880E+03\r\n",
          "+1.67740E+03\r\n",
          "+1.68630E+03\r\n",
          "+1.69490E+03\r\n",
          "+1.70350E+03\r\n",
          "+1.71210E+03\r\n",
          "+1.72070E+03\r\n",
          "+1.72930E+03\r\n",
          "+1.73820E+03\r\n"
         ],
         "y": [
          "-4.70105100000E+000",
          "-4.70155000000E+000",
          "-4.70142600000E+000",
          "-4.70184400000E+000",
          "-4.70206000000E+000",
          "-4.70296000000E+000",
          "-4.70332600000E+000",
          "-4.70412200000E+000",
          "-4.70447800000E+000",
          "-4.70539800000E+000",
          "-4.70639200000E+000",
          "-4.70704900000E+000",
          "-4.70807300000E+000",
          "-4.70884700000E+000",
          "-4.70974300000E+000",
          "-4.71094000000E+000",
          "-4.71217400000E+000",
          "-4.71308200000E+000",
          "-4.71408300000E+000",
          "-4.71484700000E+000",
          "-4.71589800000E+000",
          "-4.71688100000E+000",
          "-4.71799400000E+000",
          "-4.71911400000E+000",
          "-4.72010300000E+000",
          "-4.72117300000E+000",
          "-4.72230500000E+000",
          "-4.72260400000E+000",
          "-4.72376300000E+000",
          "-4.72448100000E+000",
          "-4.72596300000E+000",
          "-4.72677400000E+000",
          "-4.72745400000E+000",
          "-4.72850900000E+000",
          "-4.72975800000E+000",
          "-4.73109600000E+000",
          "-4.73169500000E+000",
          "-4.73275700000E+000",
          "-4.73341100000E+000",
          "-4.73455900000E+000",
          "-4.73551900000E+000",
          "-4.73657000000E+000",
          "-4.73764100000E+000",
          "-4.73862600000E+000",
          "-4.73944500000E+000",
          "-4.74059700000E+000",
          "-4.74149100000E+000",
          "-4.74241700000E+000",
          "-4.74321900000E+000",
          "-4.74417900000E+000",
          "-4.74488500000E+000",
          "-4.74566000000E+000",
          "-4.74626300000E+000",
          "-4.74671600000E+000",
          "-4.74696500000E+000",
          "-4.74722100000E+000",
          "-4.74758100000E+000",
          "-4.74747500000E+000",
          "-4.74697600000E+000",
          "-4.74637900000E+000",
          "-4.74615900000E+000",
          "-4.74627300000E+000",
          "-4.74577900000E+000",
          "-4.74491400000E+000",
          "-4.74432100000E+000",
          "-4.74388600000E+000",
          "-4.74362600000E+000",
          "-4.74322100000E+000",
          "-4.74276500000E+000",
          "-4.74243600000E+000",
          "-4.74238300000E+000",
          "-4.74190400000E+000",
          "-4.74170000000E+000",
          "-4.74223200000E+000",
          "-4.74213700000E+000",
          "-4.74181700000E+000",
          "-4.74144200000E+000",
          "-4.74153700000E+000",
          "-4.74175900000E+000",
          "-4.74149400000E+000",
          "-4.74147000000E+000",
          "-4.74115100000E+000",
          "-4.74128900000E+000",
          "-4.74102100000E+000",
          "-4.74069500000E+000",
          "-4.74092900000E+000",
          "-4.74061400000E+000",
          "-4.74074000000E+000",
          "-4.74039700000E+000",
          "-4.74039600000E+000",
          "-4.74016600000E+000",
          "-4.74013500000E+000",
          "-4.73993200000E+000",
          "-4.73963500000E+000",
          "-4.73948100000E+000",
          "-4.73957600000E+000",
          "-4.73912800000E+000",
          "-4.73894100000E+000",
          "-4.73891900000E+000",
          "-4.73874400000E+000",
          "-4.73857300000E+000",
          "-4.73841800000E+000",
          "-4.73851400000E+000",
          "-4.73804400000E+000",
          "-4.73787000000E+000",
          "-4.73772400000E+000",
          "-4.73746900000E+000",
          "-4.73691100000E+000",
          "-4.73692500000E+000",
          "-4.73672000000E+000",
          "-4.73658700000E+000",
          "-4.73665200000E+000",
          "-4.73676200000E+000",
          "-4.73667400000E+000",
          "-4.73633500000E+000",
          "-4.73581600000E+000",
          "-4.73629100000E+000",
          "-4.73606900000E+000",
          "-4.73594000000E+000",
          "-4.73570500000E+000",
          "-4.73536500000E+000",
          "-4.73511300000E+000",
          "-4.73492500000E+000",
          "-4.73492800000E+000",
          "-4.73457600000E+000",
          "-4.73446900000E+000",
          "-4.73433000000E+000",
          "-4.73425900000E+000",
          "-4.73392100000E+000",
          "-4.73380400000E+000",
          "-4.73371100000E+000",
          "-4.73371700000E+000",
          "-4.73334500000E+000",
          "-4.73325100000E+000",
          "-4.73311900000E+000",
          "-4.73288300000E+000",
          "-4.73269200000E+000",
          "-4.73261100000E+000",
          "-4.73237100000E+000",
          "-4.73219900000E+000",
          "-4.73216000000E+000",
          "-4.73212200000E+000",
          "-4.73232500000E+000",
          "-4.73219800000E+000",
          "-4.73208100000E+000",
          "-4.73190100000E+000",
          "-4.73187500000E+000",
          "-4.73177100000E+000",
          "-4.73171200000E+000",
          "-4.73189900000E+000",
          "-4.73166300000E+000",
          "-4.73201500000E+000",
          "-4.73193400000E+000",
          "-4.73187700000E+000",
          "-4.73170800000E+000",
          "-4.73171100000E+000",
          "-4.73150300000E+000",
          "-4.73157000000E+000",
          "-4.73168800000E+000",
          "-4.73127300000E+000",
          "-4.73138000000E+000",
          "-4.73160500000E+000",
          "-4.73175900000E+000",
          "-4.73180600000E+000",
          "-4.73195900000E+000",
          "-4.73188300000E+000",
          "-4.73190200000E+000",
          "-4.73208000000E+000",
          "-4.73196400000E+000",
          "-4.73197200000E+000",
          "-4.73228000000E+000",
          "-4.73252200000E+000",
          "-4.73243600000E+000",
          "-4.73243100000E+000",
          "-4.73233500000E+000",
          "-4.73261300000E+000",
          "-4.73253200000E+000",
          "-4.73242900000E+000",
          "-4.73271200000E+000",
          "-4.73258300000E+000",
          "-4.73305900000E+000",
          "-4.73308500000E+000",
          "-4.73321300000E+000",
          "-4.73352600000E+000",
          "-4.73371500000E+000",
          "-4.73403800000E+000",
          "-4.73418700000E+000",
          "-4.73422800000E+000",
          "-4.73437100000E+000",
          "-4.73407500000E+000",
          "-4.73451100000E+000",
          "-4.73485700000E+000",
          "-4.73493500000E+000",
          "-4.73487200000E+000",
          "-4.73493100000E+000",
          "-4.73522300000E+000",
          "-4.73489000000E+000",
          "-4.73512200000E+000",
          "-4.73551200000E+000",
          "-4.73569500000E+000",
          "-4.73601500000E+000\n"
         ]
        }
       ],
       "layout": {
        "autosize": true,
        "xaxis": {
         "autorange": true,
         "range": [
          9.167,
          1738.2
         ],
         "type": "linear"
        },
        "yaxis": {
         "autorange": true,
         "range": [
          -4.750166,
          -4.698466
         ],
         "type": "linear"
        }
       }
      },
      "text/html": [
       "<div id=\"8ebe8c4a-b69d-4380-b453-229aa626c17d\" style=\"height: 525px; width: 100%;\" class=\"plotly-graph-div\"></div><script type=\"text/javascript\">require([\"plotly\"], function(Plotly) { window.PLOTLYENV=window.PLOTLYENV || {};window.PLOTLYENV.BASE_URL=\"https://plot.ly\";Plotly.newPlot(\"8ebe8c4a-b69d-4380-b453-229aa626c17d\", [{\"name\": \"Original data\", \"x\": [\"+09.1670E+00\\r\\n\", \"+16.7380E+00\\r\\n\", \"+24.8870E+00\\r\\n\", \"+033.230E+00\\r\\n\", \"+041.750E+00\\r\\n\", \"+050.100E+00\\r\\n\", \"+058.450E+00\\r\\n\", \"+066.850E+00\\r\\n\", \"+075.240E+00\\r\\n\", \"+083.930E+00\\r\\n\", \"+092.340E+00\\r\\n\", \"+100.800E+00\\r\\n\", \"+109.240E+00\\r\\n\", \"+117.700E+00\\r\\n\", \"+126.160E+00\\r\\n\", \"+134.910E+00\\r\\n\", \"+143.370E+00\\r\\n\", \"+151.850E+00\\r\\n\", \"+160.330E+00\\r\\n\", \"+168.830E+00\\r\\n\", \"+177.310E+00\\r\\n\", \"+186.110E+00\\r\\n\", \"+194.620E+00\\r\\n\", \"+203.140E+00\\r\\n\", \"+211.630E+00\\r\\n\", \"+220.150E+00\\r\\n\", \"+228.680E+00\\r\\n\", \"+237.480E+00\\r\\n\", \"+246.020E+00\\r\\n\", \"+254.550E+00\\r\\n\", \"+263.090E+00\\r\\n\", \"+271.640E+00\\r\\n\", \"+280.180E+00\\r\\n\", \"+289.000E+00\\r\\n\", \"+297.540E+00\\r\\n\", \"+0.30630E+03\\r\\n\", \"+0.31460E+03\\r\\n\", \"+0.32320E+03\\r\\n\", \"+0.33170E+03\\r\\n\", \"+0.34050E+03\\r\\n\", \"+0.34910E+03\\r\\n\", \"+0.35770E+03\\r\\n\", \"+0.36620E+03\\r\\n\", \"+0.37480E+03\\r\\n\", \"+0.38340E+03\\r\\n\", \"+0.39220E+03\\r\\n\", \"+0.40080E+03\\r\\n\", \"+0.40940E+03\\r\\n\", \"+0.41800E+03\\r\\n\", \"+0.42660E+03\\r\\n\", \"+0.43520E+03\\r\\n\", \"+0.44400E+03\\r\\n\", \"+0.45260E+03\\r\\n\", \"+0.46120E+03\\r\\n\", \"+0.46990E+03\\r\\n\", \"+0.47840E+03\\r\\n\", \"+0.48710E+03\\r\\n\", \"+0.49590E+03\\r\\n\", \"+0.50460E+03\\r\\n\", \"+0.51320E+03\\r\\n\", \"+0.52180E+03\\r\\n\", \"+0.53040E+03\\r\\n\", \"+0.53900E+03\\r\\n\", \"+0.54790E+03\\r\\n\", \"+0.55660E+03\\r\\n\", \"+0.56520E+03\\r\\n\", \"+0.57380E+03\\r\\n\", \"+0.58240E+03\\r\\n\", \"+0.59110E+03\\r\\n\", \"+0.60000E+03\\r\\n\", \"+0.60860E+03\\r\\n\", \"+0.61730E+03\\r\\n\", \"+0.62590E+03\\r\\n\", \"+0.63460E+03\\r\\n\", \"+0.64320E+03\\r\\n\", \"+0.65210E+03\\r\\n\", \"+0.66070E+03\\r\\n\", \"+0.66940E+03\\r\\n\", \"+0.67800E+03\\r\\n\", \"+0.68670E+03\\r\\n\", \"+0.69530E+03\\r\\n\", \"+0.70430E+03\\r\\n\", \"+0.71290E+03\\r\\n\", \"+0.72160E+03\\r\\n\", \"+0.73020E+03\\r\\n\", \"+0.73890E+03\\r\\n\", \"+0.74750E+03\\r\\n\", \"+0.75650E+03\\r\\n\", \"+0.76510E+03\\r\\n\", \"+0.77380E+03\\r\\n\", \"+0.78240E+03\\r\\n\", \"+0.79110E+03\\r\\n\", \"+0.79970E+03\\r\\n\", \"+0.80870E+03\\r\\n\", \"+0.81730E+03\\r\\n\", \"+0.82600E+03\\r\\n\", \"+0.83470E+03\\r\\n\", \"+0.84330E+03\\r\\n\", \"+0.85200E+03\\r\\n\", \"+0.86090E+03\\r\\n\", \"+0.86960E+03\\r\\n\", \"+0.87820E+03\\r\\n\", \"+0.88690E+03\\r\\n\", \"+0.89550E+03\\r\\n\", \"+0.90420E+03\\r\\n\", \"+0.91320E+03\\r\\n\", \"+0.92180E+03\\r\\n\", \"+0.93050E+03\\r\\n\", \"+0.93910E+03\\r\\n\", \"+0.94780E+03\\r\\n\", \"+0.95640E+03\\r\\n\", \"+0.96540E+03\\r\\n\", \"+0.97410E+03\\r\\n\", \"+0.98270E+03\\r\\n\", \"+0.99140E+03\\r\\n\", \"+1.00000E+03\\r\\n\", \"+1.00870E+03\\r\\n\", \"+1.01760E+03\\r\\n\", \"+1.02630E+03\\r\\n\", \"+1.03490E+03\\r\\n\", \"+1.04360E+03\\r\\n\", \"+1.05220E+03\\r\\n\", \"+1.06090E+03\\r\\n\", \"+1.06980E+03\\r\\n\", \"+1.07850E+03\\r\\n\", \"+1.08710E+03\\r\\n\", \"+1.09580E+03\\r\\n\", \"+1.10440E+03\\r\\n\", \"+1.11310E+03\\r\\n\", \"+1.12200E+03\\r\\n\", \"+1.13070E+03\\r\\n\", \"+1.13930E+03\\r\\n\", \"+1.14800E+03\\r\\n\", \"+1.15660E+03\\r\\n\", \"+1.16530E+03\\r\\n\", \"+1.17420E+03\\r\\n\", \"+1.18290E+03\\r\\n\", \"+1.19150E+03\\r\\n\", \"+1.20020E+03\\r\\n\", \"+1.20880E+03\\r\\n\", \"+1.21770E+03\\r\\n\", \"+1.22640E+03\\r\\n\", \"+1.23510E+03\\r\\n\", \"+1.24370E+03\\r\\n\", \"+1.25230E+03\\r\\n\", \"+1.26100E+03\\r\\n\", \"+1.26990E+03\\r\\n\", \"+1.27860E+03\\r\\n\", \"+1.28720E+03\\r\\n\", \"+1.29580E+03\\r\\n\", \"+1.30450E+03\\r\\n\", \"+1.31310E+03\\r\\n\", \"+1.32200E+03\\r\\n\", \"+1.33070E+03\\r\\n\", \"+1.33930E+03\\r\\n\", \"+1.34800E+03\\r\\n\", \"+1.35660E+03\\r\\n\", \"+1.36530E+03\\r\\n\", \"+1.37420E+03\\r\\n\", \"+1.38280E+03\\r\\n\", \"+1.39150E+03\\r\\n\", \"+1.40010E+03\\r\\n\", \"+1.40870E+03\\r\\n\", \"+1.41740E+03\\r\\n\", \"+1.42630E+03\\r\\n\", \"+1.43490E+03\\r\\n\", \"+1.44350E+03\\r\\n\", \"+1.45220E+03\\r\\n\", \"+1.46080E+03\\r\\n\", \"+1.46940E+03\\r\\n\", \"+1.47830E+03\\r\\n\", \"+1.48700E+03\\r\\n\", \"+1.49560E+03\\r\\n\", \"+1.50420E+03\\r\\n\", \"+1.51280E+03\\r\\n\", \"+1.52150E+03\\r\\n\", \"+1.53040E+03\\r\\n\", \"+1.53900E+03\\r\\n\", \"+1.54760E+03\\r\\n\", \"+1.55620E+03\\r\\n\", \"+1.56480E+03\\r\\n\", \"+1.57350E+03\\r\\n\", \"+1.58240E+03\\r\\n\", \"+1.59100E+03\\r\\n\", \"+1.59960E+03\\r\\n\", \"+1.60820E+03\\r\\n\", \"+1.61680E+03\\r\\n\", \"+1.62540E+03\\r\\n\", \"+1.63430E+03\\r\\n\", \"+1.64290E+03\\r\\n\", \"+1.65160E+03\\r\\n\", \"+1.66020E+03\\r\\n\", \"+1.66880E+03\\r\\n\", \"+1.67740E+03\\r\\n\", \"+1.68630E+03\\r\\n\", \"+1.69490E+03\\r\\n\", \"+1.70350E+03\\r\\n\", \"+1.71210E+03\\r\\n\", \"+1.72070E+03\\r\\n\", \"+1.72930E+03\\r\\n\", \"+1.73820E+03\\r\\n\"], \"y\": [\"-4.70105100000E+000\", \"-4.70155000000E+000\", \"-4.70142600000E+000\", \"-4.70184400000E+000\", \"-4.70206000000E+000\", \"-4.70296000000E+000\", \"-4.70332600000E+000\", \"-4.70412200000E+000\", \"-4.70447800000E+000\", \"-4.70539800000E+000\", \"-4.70639200000E+000\", \"-4.70704900000E+000\", \"-4.70807300000E+000\", \"-4.70884700000E+000\", \"-4.70974300000E+000\", \"-4.71094000000E+000\", \"-4.71217400000E+000\", \"-4.71308200000E+000\", \"-4.71408300000E+000\", \"-4.71484700000E+000\", \"-4.71589800000E+000\", \"-4.71688100000E+000\", \"-4.71799400000E+000\", \"-4.71911400000E+000\", \"-4.72010300000E+000\", \"-4.72117300000E+000\", \"-4.72230500000E+000\", \"-4.72260400000E+000\", \"-4.72376300000E+000\", \"-4.72448100000E+000\", \"-4.72596300000E+000\", \"-4.72677400000E+000\", \"-4.72745400000E+000\", \"-4.72850900000E+000\", \"-4.72975800000E+000\", \"-4.73109600000E+000\", \"-4.73169500000E+000\", \"-4.73275700000E+000\", \"-4.73341100000E+000\", \"-4.73455900000E+000\", \"-4.73551900000E+000\", \"-4.73657000000E+000\", \"-4.73764100000E+000\", \"-4.73862600000E+000\", \"-4.73944500000E+000\", \"-4.74059700000E+000\", \"-4.74149100000E+000\", \"-4.74241700000E+000\", \"-4.74321900000E+000\", \"-4.74417900000E+000\", \"-4.74488500000E+000\", \"-4.74566000000E+000\", \"-4.74626300000E+000\", \"-4.74671600000E+000\", \"-4.74696500000E+000\", \"-4.74722100000E+000\", \"-4.74758100000E+000\", \"-4.74747500000E+000\", \"-4.74697600000E+000\", \"-4.74637900000E+000\", \"-4.74615900000E+000\", \"-4.74627300000E+000\", \"-4.74577900000E+000\", \"-4.74491400000E+000\", \"-4.74432100000E+000\", \"-4.74388600000E+000\", \"-4.74362600000E+000\", \"-4.74322100000E+000\", \"-4.74276500000E+000\", \"-4.74243600000E+000\", \"-4.74238300000E+000\", \"-4.74190400000E+000\", \"-4.74170000000E+000\", \"-4.74223200000E+000\", \"-4.74213700000E+000\", \"-4.74181700000E+000\", \"-4.74144200000E+000\", \"-4.74153700000E+000\", \"-4.74175900000E+000\", \"-4.74149400000E+000\", \"-4.74147000000E+000\", \"-4.74115100000E+000\", \"-4.74128900000E+000\", \"-4.74102100000E+000\", \"-4.74069500000E+000\", \"-4.74092900000E+000\", \"-4.74061400000E+000\", \"-4.74074000000E+000\", \"-4.74039700000E+000\", \"-4.74039600000E+000\", \"-4.74016600000E+000\", \"-4.74013500000E+000\", \"-4.73993200000E+000\", \"-4.73963500000E+000\", \"-4.73948100000E+000\", \"-4.73957600000E+000\", \"-4.73912800000E+000\", \"-4.73894100000E+000\", \"-4.73891900000E+000\", \"-4.73874400000E+000\", \"-4.73857300000E+000\", \"-4.73841800000E+000\", \"-4.73851400000E+000\", \"-4.73804400000E+000\", \"-4.73787000000E+000\", \"-4.73772400000E+000\", \"-4.73746900000E+000\", \"-4.73691100000E+000\", \"-4.73692500000E+000\", \"-4.73672000000E+000\", \"-4.73658700000E+000\", \"-4.73665200000E+000\", \"-4.73676200000E+000\", \"-4.73667400000E+000\", \"-4.73633500000E+000\", \"-4.73581600000E+000\", \"-4.73629100000E+000\", \"-4.73606900000E+000\", \"-4.73594000000E+000\", \"-4.73570500000E+000\", \"-4.73536500000E+000\", \"-4.73511300000E+000\", \"-4.73492500000E+000\", \"-4.73492800000E+000\", \"-4.73457600000E+000\", \"-4.73446900000E+000\", \"-4.73433000000E+000\", \"-4.73425900000E+000\", \"-4.73392100000E+000\", \"-4.73380400000E+000\", \"-4.73371100000E+000\", \"-4.73371700000E+000\", \"-4.73334500000E+000\", \"-4.73325100000E+000\", \"-4.73311900000E+000\", \"-4.73288300000E+000\", \"-4.73269200000E+000\", \"-4.73261100000E+000\", \"-4.73237100000E+000\", \"-4.73219900000E+000\", \"-4.73216000000E+000\", \"-4.73212200000E+000\", \"-4.73232500000E+000\", \"-4.73219800000E+000\", \"-4.73208100000E+000\", \"-4.73190100000E+000\", \"-4.73187500000E+000\", \"-4.73177100000E+000\", \"-4.73171200000E+000\", \"-4.73189900000E+000\", \"-4.73166300000E+000\", \"-4.73201500000E+000\", \"-4.73193400000E+000\", \"-4.73187700000E+000\", \"-4.73170800000E+000\", \"-4.73171100000E+000\", \"-4.73150300000E+000\", \"-4.73157000000E+000\", \"-4.73168800000E+000\", \"-4.73127300000E+000\", \"-4.73138000000E+000\", \"-4.73160500000E+000\", \"-4.73175900000E+000\", \"-4.73180600000E+000\", \"-4.73195900000E+000\", \"-4.73188300000E+000\", \"-4.73190200000E+000\", \"-4.73208000000E+000\", \"-4.73196400000E+000\", \"-4.73197200000E+000\", \"-4.73228000000E+000\", \"-4.73252200000E+000\", \"-4.73243600000E+000\", \"-4.73243100000E+000\", \"-4.73233500000E+000\", \"-4.73261300000E+000\", \"-4.73253200000E+000\", \"-4.73242900000E+000\", \"-4.73271200000E+000\", \"-4.73258300000E+000\", \"-4.73305900000E+000\", \"-4.73308500000E+000\", \"-4.73321300000E+000\", \"-4.73352600000E+000\", \"-4.73371500000E+000\", \"-4.73403800000E+000\", \"-4.73418700000E+000\", \"-4.73422800000E+000\", \"-4.73437100000E+000\", \"-4.73407500000E+000\", \"-4.73451100000E+000\", \"-4.73485700000E+000\", \"-4.73493500000E+000\", \"-4.73487200000E+000\", \"-4.73493100000E+000\", \"-4.73522300000E+000\", \"-4.73489000000E+000\", \"-4.73512200000E+000\", \"-4.73551200000E+000\", \"-4.73569500000E+000\", \"-4.73601500000E+000\\n\"], \"type\": \"scatter\", \"uid\": \"3e95c47f-1f71-4f5d-9ee6-3fd7ef3a8055\"}], {}, {\"showLink\": true, \"linkText\": \"Export to plot.ly\", \"plotlyServerURL\": \"https://plot.ly\"})});</script><script type=\"text/javascript\">window.addEventListener(\"resize\", function(){window._Plotly.Plots.resize(document.getElementById(\"8ebe8c4a-b69d-4380-b453-229aa626c17d\"));});</script>"
      ],
      "text/vnd.plotly.v1+html": [
       "<div id=\"8ebe8c4a-b69d-4380-b453-229aa626c17d\" style=\"height: 525px; width: 100%;\" class=\"plotly-graph-div\"></div><script type=\"text/javascript\">require([\"plotly\"], function(Plotly) { window.PLOTLYENV=window.PLOTLYENV || {};window.PLOTLYENV.BASE_URL=\"https://plot.ly\";Plotly.newPlot(\"8ebe8c4a-b69d-4380-b453-229aa626c17d\", [{\"name\": \"Original data\", \"x\": [\"+09.1670E+00\\r\\n\", \"+16.7380E+00\\r\\n\", \"+24.8870E+00\\r\\n\", \"+033.230E+00\\r\\n\", \"+041.750E+00\\r\\n\", \"+050.100E+00\\r\\n\", \"+058.450E+00\\r\\n\", \"+066.850E+00\\r\\n\", \"+075.240E+00\\r\\n\", \"+083.930E+00\\r\\n\", \"+092.340E+00\\r\\n\", \"+100.800E+00\\r\\n\", \"+109.240E+00\\r\\n\", \"+117.700E+00\\r\\n\", \"+126.160E+00\\r\\n\", \"+134.910E+00\\r\\n\", \"+143.370E+00\\r\\n\", \"+151.850E+00\\r\\n\", \"+160.330E+00\\r\\n\", \"+168.830E+00\\r\\n\", \"+177.310E+00\\r\\n\", \"+186.110E+00\\r\\n\", \"+194.620E+00\\r\\n\", \"+203.140E+00\\r\\n\", \"+211.630E+00\\r\\n\", \"+220.150E+00\\r\\n\", \"+228.680E+00\\r\\n\", \"+237.480E+00\\r\\n\", \"+246.020E+00\\r\\n\", \"+254.550E+00\\r\\n\", \"+263.090E+00\\r\\n\", \"+271.640E+00\\r\\n\", \"+280.180E+00\\r\\n\", \"+289.000E+00\\r\\n\", \"+297.540E+00\\r\\n\", \"+0.30630E+03\\r\\n\", \"+0.31460E+03\\r\\n\", \"+0.32320E+03\\r\\n\", \"+0.33170E+03\\r\\n\", \"+0.34050E+03\\r\\n\", \"+0.34910E+03\\r\\n\", \"+0.35770E+03\\r\\n\", \"+0.36620E+03\\r\\n\", \"+0.37480E+03\\r\\n\", \"+0.38340E+03\\r\\n\", \"+0.39220E+03\\r\\n\", \"+0.40080E+03\\r\\n\", \"+0.40940E+03\\r\\n\", \"+0.41800E+03\\r\\n\", \"+0.42660E+03\\r\\n\", \"+0.43520E+03\\r\\n\", \"+0.44400E+03\\r\\n\", \"+0.45260E+03\\r\\n\", \"+0.46120E+03\\r\\n\", \"+0.46990E+03\\r\\n\", \"+0.47840E+03\\r\\n\", \"+0.48710E+03\\r\\n\", \"+0.49590E+03\\r\\n\", \"+0.50460E+03\\r\\n\", \"+0.51320E+03\\r\\n\", \"+0.52180E+03\\r\\n\", \"+0.53040E+03\\r\\n\", \"+0.53900E+03\\r\\n\", \"+0.54790E+03\\r\\n\", \"+0.55660E+03\\r\\n\", \"+0.56520E+03\\r\\n\", \"+0.57380E+03\\r\\n\", \"+0.58240E+03\\r\\n\", \"+0.59110E+03\\r\\n\", \"+0.60000E+03\\r\\n\", \"+0.60860E+03\\r\\n\", \"+0.61730E+03\\r\\n\", \"+0.62590E+03\\r\\n\", \"+0.63460E+03\\r\\n\", \"+0.64320E+03\\r\\n\", \"+0.65210E+03\\r\\n\", \"+0.66070E+03\\r\\n\", \"+0.66940E+03\\r\\n\", \"+0.67800E+03\\r\\n\", \"+0.68670E+03\\r\\n\", \"+0.69530E+03\\r\\n\", \"+0.70430E+03\\r\\n\", \"+0.71290E+03\\r\\n\", \"+0.72160E+03\\r\\n\", \"+0.73020E+03\\r\\n\", \"+0.73890E+03\\r\\n\", \"+0.74750E+03\\r\\n\", \"+0.75650E+03\\r\\n\", \"+0.76510E+03\\r\\n\", \"+0.77380E+03\\r\\n\", \"+0.78240E+03\\r\\n\", \"+0.79110E+03\\r\\n\", \"+0.79970E+03\\r\\n\", \"+0.80870E+03\\r\\n\", \"+0.81730E+03\\r\\n\", \"+0.82600E+03\\r\\n\", \"+0.83470E+03\\r\\n\", \"+0.84330E+03\\r\\n\", \"+0.85200E+03\\r\\n\", \"+0.86090E+03\\r\\n\", \"+0.86960E+03\\r\\n\", \"+0.87820E+03\\r\\n\", \"+0.88690E+03\\r\\n\", \"+0.89550E+03\\r\\n\", \"+0.90420E+03\\r\\n\", \"+0.91320E+03\\r\\n\", \"+0.92180E+03\\r\\n\", \"+0.93050E+03\\r\\n\", \"+0.93910E+03\\r\\n\", \"+0.94780E+03\\r\\n\", \"+0.95640E+03\\r\\n\", \"+0.96540E+03\\r\\n\", \"+0.97410E+03\\r\\n\", \"+0.98270E+03\\r\\n\", \"+0.99140E+03\\r\\n\", \"+1.00000E+03\\r\\n\", \"+1.00870E+03\\r\\n\", \"+1.01760E+03\\r\\n\", \"+1.02630E+03\\r\\n\", \"+1.03490E+03\\r\\n\", \"+1.04360E+03\\r\\n\", \"+1.05220E+03\\r\\n\", \"+1.06090E+03\\r\\n\", \"+1.06980E+03\\r\\n\", \"+1.07850E+03\\r\\n\", \"+1.08710E+03\\r\\n\", \"+1.09580E+03\\r\\n\", \"+1.10440E+03\\r\\n\", \"+1.11310E+03\\r\\n\", \"+1.12200E+03\\r\\n\", \"+1.13070E+03\\r\\n\", \"+1.13930E+03\\r\\n\", \"+1.14800E+03\\r\\n\", \"+1.15660E+03\\r\\n\", \"+1.16530E+03\\r\\n\", \"+1.17420E+03\\r\\n\", \"+1.18290E+03\\r\\n\", \"+1.19150E+03\\r\\n\", \"+1.20020E+03\\r\\n\", \"+1.20880E+03\\r\\n\", \"+1.21770E+03\\r\\n\", \"+1.22640E+03\\r\\n\", \"+1.23510E+03\\r\\n\", \"+1.24370E+03\\r\\n\", \"+1.25230E+03\\r\\n\", \"+1.26100E+03\\r\\n\", \"+1.26990E+03\\r\\n\", \"+1.27860E+03\\r\\n\", \"+1.28720E+03\\r\\n\", \"+1.29580E+03\\r\\n\", \"+1.30450E+03\\r\\n\", \"+1.31310E+03\\r\\n\", \"+1.32200E+03\\r\\n\", \"+1.33070E+03\\r\\n\", \"+1.33930E+03\\r\\n\", \"+1.34800E+03\\r\\n\", \"+1.35660E+03\\r\\n\", \"+1.36530E+03\\r\\n\", \"+1.37420E+03\\r\\n\", \"+1.38280E+03\\r\\n\", \"+1.39150E+03\\r\\n\", \"+1.40010E+03\\r\\n\", \"+1.40870E+03\\r\\n\", \"+1.41740E+03\\r\\n\", \"+1.42630E+03\\r\\n\", \"+1.43490E+03\\r\\n\", \"+1.44350E+03\\r\\n\", \"+1.45220E+03\\r\\n\", \"+1.46080E+03\\r\\n\", \"+1.46940E+03\\r\\n\", \"+1.47830E+03\\r\\n\", \"+1.48700E+03\\r\\n\", \"+1.49560E+03\\r\\n\", \"+1.50420E+03\\r\\n\", \"+1.51280E+03\\r\\n\", \"+1.52150E+03\\r\\n\", \"+1.53040E+03\\r\\n\", \"+1.53900E+03\\r\\n\", \"+1.54760E+03\\r\\n\", \"+1.55620E+03\\r\\n\", \"+1.56480E+03\\r\\n\", \"+1.57350E+03\\r\\n\", \"+1.58240E+03\\r\\n\", \"+1.59100E+03\\r\\n\", \"+1.59960E+03\\r\\n\", \"+1.60820E+03\\r\\n\", \"+1.61680E+03\\r\\n\", \"+1.62540E+03\\r\\n\", \"+1.63430E+03\\r\\n\", \"+1.64290E+03\\r\\n\", \"+1.65160E+03\\r\\n\", \"+1.66020E+03\\r\\n\", \"+1.66880E+03\\r\\n\", \"+1.67740E+03\\r\\n\", \"+1.68630E+03\\r\\n\", \"+1.69490E+03\\r\\n\", \"+1.70350E+03\\r\\n\", \"+1.71210E+03\\r\\n\", \"+1.72070E+03\\r\\n\", \"+1.72930E+03\\r\\n\", \"+1.73820E+03\\r\\n\"], \"y\": [\"-4.70105100000E+000\", \"-4.70155000000E+000\", \"-4.70142600000E+000\", \"-4.70184400000E+000\", \"-4.70206000000E+000\", \"-4.70296000000E+000\", \"-4.70332600000E+000\", \"-4.70412200000E+000\", \"-4.70447800000E+000\", \"-4.70539800000E+000\", \"-4.70639200000E+000\", \"-4.70704900000E+000\", \"-4.70807300000E+000\", \"-4.70884700000E+000\", \"-4.70974300000E+000\", \"-4.71094000000E+000\", \"-4.71217400000E+000\", \"-4.71308200000E+000\", \"-4.71408300000E+000\", \"-4.71484700000E+000\", \"-4.71589800000E+000\", \"-4.71688100000E+000\", \"-4.71799400000E+000\", \"-4.71911400000E+000\", \"-4.72010300000E+000\", \"-4.72117300000E+000\", \"-4.72230500000E+000\", \"-4.72260400000E+000\", \"-4.72376300000E+000\", \"-4.72448100000E+000\", \"-4.72596300000E+000\", \"-4.72677400000E+000\", \"-4.72745400000E+000\", \"-4.72850900000E+000\", \"-4.72975800000E+000\", \"-4.73109600000E+000\", \"-4.73169500000E+000\", \"-4.73275700000E+000\", \"-4.73341100000E+000\", \"-4.73455900000E+000\", \"-4.73551900000E+000\", \"-4.73657000000E+000\", \"-4.73764100000E+000\", \"-4.73862600000E+000\", \"-4.73944500000E+000\", \"-4.74059700000E+000\", \"-4.74149100000E+000\", \"-4.74241700000E+000\", \"-4.74321900000E+000\", \"-4.74417900000E+000\", \"-4.74488500000E+000\", \"-4.74566000000E+000\", \"-4.74626300000E+000\", \"-4.74671600000E+000\", \"-4.74696500000E+000\", \"-4.74722100000E+000\", \"-4.74758100000E+000\", \"-4.74747500000E+000\", \"-4.74697600000E+000\", \"-4.74637900000E+000\", \"-4.74615900000E+000\", \"-4.74627300000E+000\", \"-4.74577900000E+000\", \"-4.74491400000E+000\", \"-4.74432100000E+000\", \"-4.74388600000E+000\", \"-4.74362600000E+000\", \"-4.74322100000E+000\", \"-4.74276500000E+000\", \"-4.74243600000E+000\", \"-4.74238300000E+000\", \"-4.74190400000E+000\", \"-4.74170000000E+000\", \"-4.74223200000E+000\", \"-4.74213700000E+000\", \"-4.74181700000E+000\", \"-4.74144200000E+000\", \"-4.74153700000E+000\", \"-4.74175900000E+000\", \"-4.74149400000E+000\", \"-4.74147000000E+000\", \"-4.74115100000E+000\", \"-4.74128900000E+000\", \"-4.74102100000E+000\", \"-4.74069500000E+000\", \"-4.74092900000E+000\", \"-4.74061400000E+000\", \"-4.74074000000E+000\", \"-4.74039700000E+000\", \"-4.74039600000E+000\", \"-4.74016600000E+000\", \"-4.74013500000E+000\", \"-4.73993200000E+000\", \"-4.73963500000E+000\", \"-4.73948100000E+000\", \"-4.73957600000E+000\", \"-4.73912800000E+000\", \"-4.73894100000E+000\", \"-4.73891900000E+000\", \"-4.73874400000E+000\", \"-4.73857300000E+000\", \"-4.73841800000E+000\", \"-4.73851400000E+000\", \"-4.73804400000E+000\", \"-4.73787000000E+000\", \"-4.73772400000E+000\", \"-4.73746900000E+000\", \"-4.73691100000E+000\", \"-4.73692500000E+000\", \"-4.73672000000E+000\", \"-4.73658700000E+000\", \"-4.73665200000E+000\", \"-4.73676200000E+000\", \"-4.73667400000E+000\", \"-4.73633500000E+000\", \"-4.73581600000E+000\", \"-4.73629100000E+000\", \"-4.73606900000E+000\", \"-4.73594000000E+000\", \"-4.73570500000E+000\", \"-4.73536500000E+000\", \"-4.73511300000E+000\", \"-4.73492500000E+000\", \"-4.73492800000E+000\", \"-4.73457600000E+000\", \"-4.73446900000E+000\", \"-4.73433000000E+000\", \"-4.73425900000E+000\", \"-4.73392100000E+000\", \"-4.73380400000E+000\", \"-4.73371100000E+000\", \"-4.73371700000E+000\", \"-4.73334500000E+000\", \"-4.73325100000E+000\", \"-4.73311900000E+000\", \"-4.73288300000E+000\", \"-4.73269200000E+000\", \"-4.73261100000E+000\", \"-4.73237100000E+000\", \"-4.73219900000E+000\", \"-4.73216000000E+000\", \"-4.73212200000E+000\", \"-4.73232500000E+000\", \"-4.73219800000E+000\", \"-4.73208100000E+000\", \"-4.73190100000E+000\", \"-4.73187500000E+000\", \"-4.73177100000E+000\", \"-4.73171200000E+000\", \"-4.73189900000E+000\", \"-4.73166300000E+000\", \"-4.73201500000E+000\", \"-4.73193400000E+000\", \"-4.73187700000E+000\", \"-4.73170800000E+000\", \"-4.73171100000E+000\", \"-4.73150300000E+000\", \"-4.73157000000E+000\", \"-4.73168800000E+000\", \"-4.73127300000E+000\", \"-4.73138000000E+000\", \"-4.73160500000E+000\", \"-4.73175900000E+000\", \"-4.73180600000E+000\", \"-4.73195900000E+000\", \"-4.73188300000E+000\", \"-4.73190200000E+000\", \"-4.73208000000E+000\", \"-4.73196400000E+000\", \"-4.73197200000E+000\", \"-4.73228000000E+000\", \"-4.73252200000E+000\", \"-4.73243600000E+000\", \"-4.73243100000E+000\", \"-4.73233500000E+000\", \"-4.73261300000E+000\", \"-4.73253200000E+000\", \"-4.73242900000E+000\", \"-4.73271200000E+000\", \"-4.73258300000E+000\", \"-4.73305900000E+000\", \"-4.73308500000E+000\", \"-4.73321300000E+000\", \"-4.73352600000E+000\", \"-4.73371500000E+000\", \"-4.73403800000E+000\", \"-4.73418700000E+000\", \"-4.73422800000E+000\", \"-4.73437100000E+000\", \"-4.73407500000E+000\", \"-4.73451100000E+000\", \"-4.73485700000E+000\", \"-4.73493500000E+000\", \"-4.73487200000E+000\", \"-4.73493100000E+000\", \"-4.73522300000E+000\", \"-4.73489000000E+000\", \"-4.73512200000E+000\", \"-4.73551200000E+000\", \"-4.73569500000E+000\", \"-4.73601500000E+000\\n\"], \"type\": \"scatter\", \"uid\": \"3e95c47f-1f71-4f5d-9ee6-3fd7ef3a8055\"}], {}, {\"showLink\": true, \"linkText\": \"Export to plot.ly\", \"plotlyServerURL\": \"https://plot.ly\"})});</script><script type=\"text/javascript\">window.addEventListener(\"resize\", function(){window._Plotly.Plots.resize(document.getElementById(\"8ebe8c4a-b69d-4380-b453-229aa626c17d\"));});</script>"
      ]
     },
     "metadata": {},
     "output_type": "display_data"
    }
   ],
   "source": [
    "trace = go.Scatter(x=Field_data, y=result.split(','), name='Original data')\n",
    "iplot([trace], filename='test')\n"
   ]
  },
  {
   "cell_type": "code",
   "execution_count": 14,
   "metadata": {
    "collapsed": false,
    "inputHidden": false,
    "outputHidden": false
   },
   "outputs": [
    {
     "name": "stdout",
     "output_type": "stream",
     "text": [
      "C:\\Users\\KC\\Ipython notebook\\20181213\\20181213_S21_20A_delay1s_7GHz_Meas_02Grap_02.pdf\n"
     ]
    }
   ],
   "source": [
    "import plotly.io as pio\n",
    "graph_number = 1\n",
    "graph_str = data_str + \"Grap_{:0>2d}\".format(graph_number)\n",
    "my_file = Path(data_Storage_PATH + graph_str + '.pdf')\n",
    "\n",
    "while my_file.is_file():\n",
    "    graph_number = graph_number + 1\n",
    "    graph_str = data_str + \"Grap_{:0>2d}\".format(graph_number)\n",
    "    my_file = Path(data_Storage_PATH+graph_str + '.pdf')\n",
    "print(my_file)\n",
    "fig = go.Figure(data=[trace], layout=layout)\n",
    "pio.write_image(fig, graph_str +'.pdf')"
   ]
  },
  {
   "cell_type": "code",
   "execution_count": null,
   "metadata": {},
   "outputs": [],
   "source": []
  }
 ],
 "metadata": {
  "kernel_info": {
   "name": "python3"
  },
  "kernelspec": {
   "display_name": "Python 3",
   "language": "python",
   "name": "python3"
  },
  "language_info": {
   "codemirror_mode": {
    "name": "ipython",
    "version": 3
   },
   "file_extension": ".py",
   "mimetype": "text/x-python",
   "name": "python",
   "nbconvert_exporter": "python",
   "pygments_lexer": "ipython3",
   "version": "3.6.7"
  },
  "nteract": {
   "version": "0.12.3"
  }
 },
 "nbformat": 4,
 "nbformat_minor": 2
}
