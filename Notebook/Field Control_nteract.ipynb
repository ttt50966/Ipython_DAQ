{
  "cells": [
    {
      "cell_type": "markdown",
      "source": [
        "# Magnetic Contol program\n",
        "**`author`**: `Kuan-Chia Chiu`  \n",
        "**`update`**: `2018-12-12`  \n",
        "**`package installed`**: `pyvisa`, `serial`, `ipywidgets`(*optional*), `plotly`(*optional*)\n"
      ],
      "metadata": {}
    },
    {
      "cell_type": "code",
      "source": [
        "import visa\n",
        "import time\n",
        "import serial\n",
        "import matplotlib.pyplot as plt\n",
        "\n\n",
        "rm = visa.ResourceManager()\n",
        "res = rm.list_resources()\n",
        "vna_dict =[]\n",
        "for x in range(0, len(res)):\n",
        "    vna_dict.append(res[x])\n",
        "    print(\"{}. \".format(x) + res[x] + \", \\n\")\n",
        "print(\"\\n\")\n"
      ],
      "outputs": [
        {
          "output_type": "stream",
          "name": "stdout",
          "text": [
            "0. ASRL4::INSTR, \n",
            "\n",
            "1. ASRL5::INSTR, \n",
            "\n",
            "2. ASRL6::INSTR, \n",
            "\n",
            "3. GPIB0::6::INSTR, \n",
            "\n\n\n"
          ]
        }
      ],
      "execution_count": 1,
      "metadata": {
        "slideshow": {
          "slide_type": "skip"
        }
      }
    },
    {
      "cell_type": "code",
      "source": [
        "KEPCO_address = \"GPIB0::6::INSTR\"\n",
        "LakeShore_address = \"COM6\""
      ],
      "outputs": [],
      "execution_count": 2,
      "metadata": {
        "slideshow": {
          "slide_type": "skip"
        }
      }
    },
    {
      "cell_type": "code",
      "source": [
        "ser = serial.Serial(LakeShore_address, 57600,bytesize=7, parity=serial.PARITY_ODD, stopbits=1)  \n",
        "# Lake Shore 425"
      ],
      "outputs": [],
      "execution_count": 3,
      "metadata": {
        "slideshow": {
          "slide_type": "skip"
        }
      }
    },
    {
      "cell_type": "markdown",
      "source": [
        "## Current to Field curves"
      ],
      "metadata": {
        "slideshow": {
          "slide_type": "slide"
        }
      }
    },
    {
      "cell_type": "code",
      "source": [
        "sweep_current = 10\n",
        "sweep_pts = 101\n",
        "KEPCO = rm.open_resource(KEPCO_address)\n",
        "\n",
        "KEPCO.timeout=10000\n",
        "KEPCO.write(\"FUNC:MODE CURR\")\n",
        "KEPCO.write(\"volt 0.000;curr 0.000\")\n",
        "KEPCO.write(\"OUTPUT ON\")\n",
        "Field_data = []\n",
        "Current_data = []\n",
        "for i in range(sweep_pts):\n",
        "    KEPCO.write(\"volt  20.000;curr {:.4f}\".format(i*sweep_current/(sweep_pts-1)))\n",
        "    time.sleep(1)\n",
        "    Current = str(i*sweep_current/(sweep_pts-1))\n",
        "    Current_data.append(Current)\n",
        "    ser.write(b'RDGFIELD?\\n')\n",
        "    Field = ser.readline()\n",
        "    Field_data.append(Field.decode('utf8'))\n",
        "    time.sleep(0.1)\n",
        "\n",
        "KEPCO.write(\"OUTPUT OFF\")\n",
        "KEPCO.write(\"volt 0.000;curr 0.000\")\n",
        "#ser.close()\n"
      ],
      "outputs": [
        {
          "output_type": "execute_result",
          "execution_count": 4,
          "data": {
            "text/plain": [
              "(23, <StatusCode.success: 0>)"
            ]
          },
          "metadata": {}
        }
      ],
      "execution_count": 4,
      "metadata": {
        "slideshow": {
          "slide_type": "subslide"
        }
      }
    },
    {
      "cell_type": "markdown",
      "source": [
        "## Save Data"
      ],
      "metadata": {
        "slideshow": {
          "slide_type": "slide"
        }
      }
    },
    {
      "cell_type": "code",
      "source": [
        "import os\n",
        "import re\n",
        "data_filename = './20181213_10A_delay_1s.txt'\n",
        "# Add datetime automatically and append with the file name arbitaryly.\n",
        "with open(data_filename, 'w') as f:\n",
        "    f.write('Cuurent\\s(A)\\tField\\s(G)\\n')\n",
        "    for j in range(sweep_pts):\n",
        "        f.write('{}\\t{}'.format(Current_data[j],Field_data[j]))\n",
        "f.close()"
      ],
      "outputs": [],
      "execution_count": 6,
      "metadata": {
        "slideshow": {
          "slide_type": "subslide"
        }
      }
    },
    {
      "cell_type": "markdown",
      "source": [
        "## Plot data"
      ],
      "metadata": {}
    },
    {
      "cell_type": "code",
      "source": [
        "import plotly as py\n",
        "from plotly.graph_objs import Scatter, Layout\n",
        "from plotly.offline import download_plotlyjs, init_notebook_mode, plot, iplot\n",
        "init_notebook_mode(connected=True)\n",
        "import plotly.graph_objs as go\n",
        "trace = go.Scatter(x=Current_data, y=Field_data, name='Original data')\n",
        "iplot([trace], filename='test')"
      ],
      "outputs": [
        {
          "output_type": "display_data",
          "data": {
            "text/html": [
              "<script type=\"text/javascript\">window.PlotlyConfig = {MathJaxConfig: 'local'};</script><script type=\"text/javascript\">if (window.MathJax) {MathJax.Hub.Config({SVG: {font: \"STIX-Web\"}});}</script><script>requirejs.config({paths: { 'plotly': ['https://cdn.plot.ly/plotly-latest.min']},});if(!window._Plotly) {require(['plotly'],function(plotly) {window._Plotly=plotly;});}</script>"
            ],
            "text/vnd.plotly.v1+html": [
              "<script type=\"text/javascript\">window.PlotlyConfig = {MathJaxConfig: 'local'};</script><script type=\"text/javascript\">if (window.MathJax) {MathJax.Hub.Config({SVG: {font: \"STIX-Web\"}});}</script><script>requirejs.config({paths: { 'plotly': ['https://cdn.plot.ly/plotly-latest.min']},});if(!window._Plotly) {require(['plotly'],function(plotly) {window._Plotly=plotly;});}</script>"
            ]
          },
          "metadata": {}
        },
        {
          "output_type": "display_data",
          "data": {
            "application/vnd.plotly.v1+json": {
              "data": [
                {
                  "name": "Original data",
                  "x": [
                    "0.0",
                    "0.1",
                    "0.2",
                    "0.3",
                    "0.4",
                    "0.5",
                    "0.6",
                    "0.7",
                    "0.8",
                    "0.9",
                    "1.0",
                    "1.1",
                    "1.2",
                    "1.3",
                    "1.4",
                    "1.5",
                    "1.6",
                    "1.7",
                    "1.8",
                    "1.9",
                    "2.0",
                    "2.1",
                    "2.2",
                    "2.3",
                    "2.4",
                    "2.5",
                    "2.6",
                    "2.7",
                    "2.8",
                    "2.9",
                    "3.0",
                    "3.1",
                    "3.2",
                    "3.3",
                    "3.4",
                    "3.5",
                    "3.6",
                    "3.7",
                    "3.8",
                    "3.9",
                    "4.0",
                    "4.1",
                    "4.2",
                    "4.3",
                    "4.4",
                    "4.5",
                    "4.6",
                    "4.7",
                    "4.8",
                    "4.9",
                    "5.0",
                    "5.1",
                    "5.2",
                    "5.3",
                    "5.4",
                    "5.5",
                    "5.6",
                    "5.7",
                    "5.8",
                    "5.9",
                    "6.0",
                    "6.1",
                    "6.2",
                    "6.3",
                    "6.4",
                    "6.5",
                    "6.6",
                    "6.7",
                    "6.8",
                    "6.9",
                    "7.0",
                    "7.1",
                    "7.2",
                    "7.3",
                    "7.4",
                    "7.5",
                    "7.6",
                    "7.7",
                    "7.8",
                    "7.9",
                    "8.0",
                    "8.1",
                    "8.2",
                    "8.3",
                    "8.4",
                    "8.5",
                    "8.6",
                    "8.7",
                    "8.8",
                    "8.9",
                    "9.0",
                    "9.1",
                    "9.2",
                    "9.3",
                    "9.4",
                    "9.5",
                    "9.6",
                    "9.7",
                    "9.8",
                    "9.9",
                    "10.0"
                  ],
                  "y": [
                    "+09.0160E+00\r\n",
                    "+16.1030E+00\r\n",
                    "+24.1200E+00\r\n",
                    "+032.400E+00\r\n",
                    "+040.890E+00\r\n",
                    "+049.240E+00\r\n",
                    "+057.600E+00\r\n",
                    "+066.000E+00\r\n",
                    "+074.410E+00\r\n",
                    "+083.130E+00\r\n",
                    "+091.560E+00\r\n",
                    "+100.030E+00\r\n",
                    "+108.490E+00\r\n",
                    "+116.980E+00\r\n",
                    "+125.440E+00\r\n",
                    "+134.220E+00\r\n",
                    "+142.700E+00\r\n",
                    "+151.210E+00\r\n",
                    "+159.720E+00\r\n",
                    "+168.220E+00\r\n",
                    "+176.740E+00\r\n",
                    "+185.540E+00\r\n",
                    "+194.070E+00\r\n",
                    "+202.600E+00\r\n",
                    "+211.140E+00\r\n",
                    "+219.670E+00\r\n",
                    "+228.220E+00\r\n",
                    "+237.040E+00\r\n",
                    "+245.600E+00\r\n",
                    "+254.140E+00\r\n",
                    "+262.700E+00\r\n",
                    "+271.260E+00\r\n",
                    "+279.820E+00\r\n",
                    "+288.650E+00\r\n",
                    "+297.220E+00\r\n",
                    "+0.30610E+03\r\n",
                    "+0.31440E+03\r\n",
                    "+0.32290E+03\r\n",
                    "+0.33150E+03\r\n",
                    "+0.34030E+03\r\n",
                    "+0.34890E+03\r\n",
                    "+0.35750E+03\r\n",
                    "+0.36610E+03\r\n",
                    "+0.37460E+03\r\n",
                    "+0.38320E+03\r\n",
                    "+0.39210E+03\r\n",
                    "+0.40070E+03\r\n",
                    "+0.40930E+03\r\n",
                    "+0.41790E+03\r\n",
                    "+0.42650E+03\r\n",
                    "+0.43510E+03\r\n",
                    "+0.44400E+03\r\n",
                    "+0.45260E+03\r\n",
                    "+0.46120E+03\r\n",
                    "+0.46980E+03\r\n",
                    "+0.47850E+03\r\n",
                    "+0.48710E+03\r\n",
                    "+0.49600E+03\r\n",
                    "+0.50460E+03\r\n",
                    "+0.51320E+03\r\n",
                    "+0.52190E+03\r\n",
                    "+0.53050E+03\r\n",
                    "+0.53910E+03\r\n",
                    "+0.54800E+03\r\n",
                    "+0.55670E+03\r\n",
                    "+0.56530E+03\r\n",
                    "+0.57400E+03\r\n",
                    "+0.58260E+03\r\n",
                    "+0.59130E+03\r\n",
                    "+0.60020E+03\r\n",
                    "+0.60880E+03\r\n",
                    "+0.61750E+03\r\n",
                    "+0.62610E+03\r\n",
                    "+0.63480E+03\r\n",
                    "+0.64340E+03\r\n",
                    "+0.65240E+03\r\n",
                    "+0.66100E+03\r\n",
                    "+0.66970E+03\r\n",
                    "+0.67830E+03\r\n",
                    "+0.68700E+03\r\n",
                    "+0.69570E+03\r\n",
                    "+0.70460E+03\r\n",
                    "+0.71320E+03\r\n",
                    "+0.72190E+03\r\n",
                    "+0.73060E+03\r\n",
                    "+0.73930E+03\r\n",
                    "+0.74790E+03\r\n",
                    "+0.75690E+03\r\n",
                    "+0.76550E+03\r\n",
                    "+0.77420E+03\r\n",
                    "+0.78290E+03\r\n",
                    "+0.79150E+03\r\n",
                    "+0.80020E+03\r\n",
                    "+0.80910E+03\r\n",
                    "+0.81780E+03\r\n",
                    "+0.82650E+03\r\n",
                    "+0.83510E+03\r\n",
                    "+0.84380E+03\r\n",
                    "+0.85250E+03\r\n",
                    "+0.86140E+03\r\n",
                    "+0.87010E+03\r\n"
                  ],
                  "type": "scatter",
                  "uid": "86cdeef9-da02-4a41-9fd4-2fdf9672785b"
                }
              ],
              "layout": {},
              "config": {
                "showLink": true,
                "linkText": "Export to plot.ly",
                "plotlyServerURL": "https://plot.ly"
              }
            },
            "text/html": [
              "<div id=\"496a9dca-ed42-4d25-b000-3b21fc635385\" style=\"height: 525px; width: 100%;\" class=\"plotly-graph-div\"></div><script type=\"text/javascript\">require([\"plotly\"], function(Plotly) { window.PLOTLYENV=window.PLOTLYENV || {};window.PLOTLYENV.BASE_URL=\"https://plot.ly\";Plotly.newPlot(\"496a9dca-ed42-4d25-b000-3b21fc635385\", [{\"name\": \"Original data\", \"x\": [\"0.0\", \"0.1\", \"0.2\", \"0.3\", \"0.4\", \"0.5\", \"0.6\", \"0.7\", \"0.8\", \"0.9\", \"1.0\", \"1.1\", \"1.2\", \"1.3\", \"1.4\", \"1.5\", \"1.6\", \"1.7\", \"1.8\", \"1.9\", \"2.0\", \"2.1\", \"2.2\", \"2.3\", \"2.4\", \"2.5\", \"2.6\", \"2.7\", \"2.8\", \"2.9\", \"3.0\", \"3.1\", \"3.2\", \"3.3\", \"3.4\", \"3.5\", \"3.6\", \"3.7\", \"3.8\", \"3.9\", \"4.0\", \"4.1\", \"4.2\", \"4.3\", \"4.4\", \"4.5\", \"4.6\", \"4.7\", \"4.8\", \"4.9\", \"5.0\", \"5.1\", \"5.2\", \"5.3\", \"5.4\", \"5.5\", \"5.6\", \"5.7\", \"5.8\", \"5.9\", \"6.0\", \"6.1\", \"6.2\", \"6.3\", \"6.4\", \"6.5\", \"6.6\", \"6.7\", \"6.8\", \"6.9\", \"7.0\", \"7.1\", \"7.2\", \"7.3\", \"7.4\", \"7.5\", \"7.6\", \"7.7\", \"7.8\", \"7.9\", \"8.0\", \"8.1\", \"8.2\", \"8.3\", \"8.4\", \"8.5\", \"8.6\", \"8.7\", \"8.8\", \"8.9\", \"9.0\", \"9.1\", \"9.2\", \"9.3\", \"9.4\", \"9.5\", \"9.6\", \"9.7\", \"9.8\", \"9.9\", \"10.0\"], \"y\": [\"+09.0160E+00\\r\\n\", \"+16.1030E+00\\r\\n\", \"+24.1200E+00\\r\\n\", \"+032.400E+00\\r\\n\", \"+040.890E+00\\r\\n\", \"+049.240E+00\\r\\n\", \"+057.600E+00\\r\\n\", \"+066.000E+00\\r\\n\", \"+074.410E+00\\r\\n\", \"+083.130E+00\\r\\n\", \"+091.560E+00\\r\\n\", \"+100.030E+00\\r\\n\", \"+108.490E+00\\r\\n\", \"+116.980E+00\\r\\n\", \"+125.440E+00\\r\\n\", \"+134.220E+00\\r\\n\", \"+142.700E+00\\r\\n\", \"+151.210E+00\\r\\n\", \"+159.720E+00\\r\\n\", \"+168.220E+00\\r\\n\", \"+176.740E+00\\r\\n\", \"+185.540E+00\\r\\n\", \"+194.070E+00\\r\\n\", \"+202.600E+00\\r\\n\", \"+211.140E+00\\r\\n\", \"+219.670E+00\\r\\n\", \"+228.220E+00\\r\\n\", \"+237.040E+00\\r\\n\", \"+245.600E+00\\r\\n\", \"+254.140E+00\\r\\n\", \"+262.700E+00\\r\\n\", \"+271.260E+00\\r\\n\", \"+279.820E+00\\r\\n\", \"+288.650E+00\\r\\n\", \"+297.220E+00\\r\\n\", \"+0.30610E+03\\r\\n\", \"+0.31440E+03\\r\\n\", \"+0.32290E+03\\r\\n\", \"+0.33150E+03\\r\\n\", \"+0.34030E+03\\r\\n\", \"+0.34890E+03\\r\\n\", \"+0.35750E+03\\r\\n\", \"+0.36610E+03\\r\\n\", \"+0.37460E+03\\r\\n\", \"+0.38320E+03\\r\\n\", \"+0.39210E+03\\r\\n\", \"+0.40070E+03\\r\\n\", \"+0.40930E+03\\r\\n\", \"+0.41790E+03\\r\\n\", \"+0.42650E+03\\r\\n\", \"+0.43510E+03\\r\\n\", \"+0.44400E+03\\r\\n\", \"+0.45260E+03\\r\\n\", \"+0.46120E+03\\r\\n\", \"+0.46980E+03\\r\\n\", \"+0.47850E+03\\r\\n\", \"+0.48710E+03\\r\\n\", \"+0.49600E+03\\r\\n\", \"+0.50460E+03\\r\\n\", \"+0.51320E+03\\r\\n\", \"+0.52190E+03\\r\\n\", \"+0.53050E+03\\r\\n\", \"+0.53910E+03\\r\\n\", \"+0.54800E+03\\r\\n\", \"+0.55670E+03\\r\\n\", \"+0.56530E+03\\r\\n\", \"+0.57400E+03\\r\\n\", \"+0.58260E+03\\r\\n\", \"+0.59130E+03\\r\\n\", \"+0.60020E+03\\r\\n\", \"+0.60880E+03\\r\\n\", \"+0.61750E+03\\r\\n\", \"+0.62610E+03\\r\\n\", \"+0.63480E+03\\r\\n\", \"+0.64340E+03\\r\\n\", \"+0.65240E+03\\r\\n\", \"+0.66100E+03\\r\\n\", \"+0.66970E+03\\r\\n\", \"+0.67830E+03\\r\\n\", \"+0.68700E+03\\r\\n\", \"+0.69570E+03\\r\\n\", \"+0.70460E+03\\r\\n\", \"+0.71320E+03\\r\\n\", \"+0.72190E+03\\r\\n\", \"+0.73060E+03\\r\\n\", \"+0.73930E+03\\r\\n\", \"+0.74790E+03\\r\\n\", \"+0.75690E+03\\r\\n\", \"+0.76550E+03\\r\\n\", \"+0.77420E+03\\r\\n\", \"+0.78290E+03\\r\\n\", \"+0.79150E+03\\r\\n\", \"+0.80020E+03\\r\\n\", \"+0.80910E+03\\r\\n\", \"+0.81780E+03\\r\\n\", \"+0.82650E+03\\r\\n\", \"+0.83510E+03\\r\\n\", \"+0.84380E+03\\r\\n\", \"+0.85250E+03\\r\\n\", \"+0.86140E+03\\r\\n\", \"+0.87010E+03\\r\\n\"], \"type\": \"scatter\", \"uid\": \"0908049f-da34-42bb-be23-956cfe29ef49\"}], {}, {\"showLink\": true, \"linkText\": \"Export to plot.ly\", \"plotlyServerURL\": \"https://plot.ly\"})});</script><script type=\"text/javascript\">window.addEventListener(\"resize\", function(){window._Plotly.Plots.resize(document.getElementById(\"496a9dca-ed42-4d25-b000-3b21fc635385\"));});</script>"
            ],
            "text/vnd.plotly.v1+html": [
              "<div id=\"496a9dca-ed42-4d25-b000-3b21fc635385\" style=\"height: 525px; width: 100%;\" class=\"plotly-graph-div\"></div><script type=\"text/javascript\">require([\"plotly\"], function(Plotly) { window.PLOTLYENV=window.PLOTLYENV || {};window.PLOTLYENV.BASE_URL=\"https://plot.ly\";Plotly.newPlot(\"496a9dca-ed42-4d25-b000-3b21fc635385\", [{\"name\": \"Original data\", \"x\": [\"0.0\", \"0.1\", \"0.2\", \"0.3\", \"0.4\", \"0.5\", \"0.6\", \"0.7\", \"0.8\", \"0.9\", \"1.0\", \"1.1\", \"1.2\", \"1.3\", \"1.4\", \"1.5\", \"1.6\", \"1.7\", \"1.8\", \"1.9\", \"2.0\", \"2.1\", \"2.2\", \"2.3\", \"2.4\", \"2.5\", \"2.6\", \"2.7\", \"2.8\", \"2.9\", \"3.0\", \"3.1\", \"3.2\", \"3.3\", \"3.4\", \"3.5\", \"3.6\", \"3.7\", \"3.8\", \"3.9\", \"4.0\", \"4.1\", \"4.2\", \"4.3\", \"4.4\", \"4.5\", \"4.6\", \"4.7\", \"4.8\", \"4.9\", \"5.0\", \"5.1\", \"5.2\", \"5.3\", \"5.4\", \"5.5\", \"5.6\", \"5.7\", \"5.8\", \"5.9\", \"6.0\", \"6.1\", \"6.2\", \"6.3\", \"6.4\", \"6.5\", \"6.6\", \"6.7\", \"6.8\", \"6.9\", \"7.0\", \"7.1\", \"7.2\", \"7.3\", \"7.4\", \"7.5\", \"7.6\", \"7.7\", \"7.8\", \"7.9\", \"8.0\", \"8.1\", \"8.2\", \"8.3\", \"8.4\", \"8.5\", \"8.6\", \"8.7\", \"8.8\", \"8.9\", \"9.0\", \"9.1\", \"9.2\", \"9.3\", \"9.4\", \"9.5\", \"9.6\", \"9.7\", \"9.8\", \"9.9\", \"10.0\"], \"y\": [\"+09.0160E+00\\r\\n\", \"+16.1030E+00\\r\\n\", \"+24.1200E+00\\r\\n\", \"+032.400E+00\\r\\n\", \"+040.890E+00\\r\\n\", \"+049.240E+00\\r\\n\", \"+057.600E+00\\r\\n\", \"+066.000E+00\\r\\n\", \"+074.410E+00\\r\\n\", \"+083.130E+00\\r\\n\", \"+091.560E+00\\r\\n\", \"+100.030E+00\\r\\n\", \"+108.490E+00\\r\\n\", \"+116.980E+00\\r\\n\", \"+125.440E+00\\r\\n\", \"+134.220E+00\\r\\n\", \"+142.700E+00\\r\\n\", \"+151.210E+00\\r\\n\", \"+159.720E+00\\r\\n\", \"+168.220E+00\\r\\n\", \"+176.740E+00\\r\\n\", \"+185.540E+00\\r\\n\", \"+194.070E+00\\r\\n\", \"+202.600E+00\\r\\n\", \"+211.140E+00\\r\\n\", \"+219.670E+00\\r\\n\", \"+228.220E+00\\r\\n\", \"+237.040E+00\\r\\n\", \"+245.600E+00\\r\\n\", \"+254.140E+00\\r\\n\", \"+262.700E+00\\r\\n\", \"+271.260E+00\\r\\n\", \"+279.820E+00\\r\\n\", \"+288.650E+00\\r\\n\", \"+297.220E+00\\r\\n\", \"+0.30610E+03\\r\\n\", \"+0.31440E+03\\r\\n\", \"+0.32290E+03\\r\\n\", \"+0.33150E+03\\r\\n\", \"+0.34030E+03\\r\\n\", \"+0.34890E+03\\r\\n\", \"+0.35750E+03\\r\\n\", \"+0.36610E+03\\r\\n\", \"+0.37460E+03\\r\\n\", \"+0.38320E+03\\r\\n\", \"+0.39210E+03\\r\\n\", \"+0.40070E+03\\r\\n\", \"+0.40930E+03\\r\\n\", \"+0.41790E+03\\r\\n\", \"+0.42650E+03\\r\\n\", \"+0.43510E+03\\r\\n\", \"+0.44400E+03\\r\\n\", \"+0.45260E+03\\r\\n\", \"+0.46120E+03\\r\\n\", \"+0.46980E+03\\r\\n\", \"+0.47850E+03\\r\\n\", \"+0.48710E+03\\r\\n\", \"+0.49600E+03\\r\\n\", \"+0.50460E+03\\r\\n\", \"+0.51320E+03\\r\\n\", \"+0.52190E+03\\r\\n\", \"+0.53050E+03\\r\\n\", \"+0.53910E+03\\r\\n\", \"+0.54800E+03\\r\\n\", \"+0.55670E+03\\r\\n\", \"+0.56530E+03\\r\\n\", \"+0.57400E+03\\r\\n\", \"+0.58260E+03\\r\\n\", \"+0.59130E+03\\r\\n\", \"+0.60020E+03\\r\\n\", \"+0.60880E+03\\r\\n\", \"+0.61750E+03\\r\\n\", \"+0.62610E+03\\r\\n\", \"+0.63480E+03\\r\\n\", \"+0.64340E+03\\r\\n\", \"+0.65240E+03\\r\\n\", \"+0.66100E+03\\r\\n\", \"+0.66970E+03\\r\\n\", \"+0.67830E+03\\r\\n\", \"+0.68700E+03\\r\\n\", \"+0.69570E+03\\r\\n\", \"+0.70460E+03\\r\\n\", \"+0.71320E+03\\r\\n\", \"+0.72190E+03\\r\\n\", \"+0.73060E+03\\r\\n\", \"+0.73930E+03\\r\\n\", \"+0.74790E+03\\r\\n\", \"+0.75690E+03\\r\\n\", \"+0.76550E+03\\r\\n\", \"+0.77420E+03\\r\\n\", \"+0.78290E+03\\r\\n\", \"+0.79150E+03\\r\\n\", \"+0.80020E+03\\r\\n\", \"+0.80910E+03\\r\\n\", \"+0.81780E+03\\r\\n\", \"+0.82650E+03\\r\\n\", \"+0.83510E+03\\r\\n\", \"+0.84380E+03\\r\\n\", \"+0.85250E+03\\r\\n\", \"+0.86140E+03\\r\\n\", \"+0.87010E+03\\r\\n\"], \"type\": \"scatter\", \"uid\": \"0908049f-da34-42bb-be23-956cfe29ef49\"}], {}, {\"showLink\": true, \"linkText\": \"Export to plot.ly\", \"plotlyServerURL\": \"https://plot.ly\"})});</script><script type=\"text/javascript\">window.addEventListener(\"resize\", function(){window._Plotly.Plots.resize(document.getElementById(\"496a9dca-ed42-4d25-b000-3b21fc635385\"));});</script>"
            ]
          },
          "metadata": {}
        }
      ],
      "execution_count": 7,
      "metadata": {}
    },
    {
      "cell_type": "markdown",
      "source": [
        "## Set the name of data"
      ],
      "metadata": {
        "collapsed": false,
        "outputHidden": false,
        "inputHidden": false
      }
    },
    {
      "cell_type": "code",
      "source": [
        "import datetime as date\n",
        "##### Set Parameter #####\n",
        "sweep_current = 30\n",
        "delay = 1\n",
        "freq = 9000000000\n",
        "meas_para = \"S21\"\n",
        "#########################\n",
        "\n",
        "year = date.datetime.now().year\n",
        "day = date.datetime.now().day\n",
        "month = date.datetime.now().month\n",
        "data_str = \"{}{}{}_{}_{}A_delay{}s_{:.0f}GHz.txt\".format(year,month,day,meas_para,sweep_current,delay,freq/1000000000)\n",
        "print(data_str)"
      ],
      "outputs": [
        {
          "output_type": "stream",
          "name": "stdout",
          "text": [
            "20181213_S21_30A_delay1s_9GHz.txt\n"
          ]
        }
      ],
      "execution_count": 29,
      "metadata": {}
    },
    {
      "cell_type": "code",
      "source": [],
      "outputs": [],
      "execution_count": null,
      "metadata": {
        "collapsed": false,
        "outputHidden": false,
        "inputHidden": false
      }
    }
  ],
  "metadata": {
    "kernelspec": {
      "name": "python3",
      "language": "python",
      "display_name": "Python 3"
    },
    "language_info": {
      "name": "python",
      "version": "3.6.7",
      "mimetype": "text/x-python",
      "codemirror_mode": {
        "name": "ipython",
        "version": 3
      },
      "pygments_lexer": "ipython3",
      "nbconvert_exporter": "python",
      "file_extension": ".py"
    },
    "kernel_info": {
      "name": "python3"
    },
    "nteract": {
      "version": "0.12.3"
    }
  },
  "nbformat": 4,
  "nbformat_minor": 2
}