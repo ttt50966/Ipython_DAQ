{
 "cells": [
  {
   "cell_type": "markdown",
   "metadata": {},
   "source": [
    "# Spin pumping program\n",
    "**`author`**: `Kuan-Chia Chiu`  \n",
    "**`update`**: `2018-12-11`  \n",
    "**`package installed`**: `pyvisa`, `serial`, `ipywidgets`"
   ]
  },
  {
   "cell_type": "code",
   "execution_count": 1,
   "metadata": {},
   "outputs": [
    {
     "name": "stdout",
     "output_type": "stream",
     "text": [
      "0. ASRL4::INSTR, \n",
      "\n",
      "1. ASRL5::INSTR, \n",
      "\n",
      "\n",
      "\n"
     ]
    }
   ],
   "source": [
    "import visa\n",
    "import time\n",
    "import serial\n",
    "from ipywidgets import interact, interactive, fixed, interact_manual\n",
    "import ipywidgets as widgets\n",
    "rm = visa.ResourceManager()\n",
    "res = rm.list_resources()\n",
    "vna_dict =[]\n",
    "for x in range(0, len(res)):\n",
    "    vna_dict.append(res[x])\n",
    "    print(\"{}. \".format(x) + res[x] + \", \\n\")\n",
    "print(\"\\n\")"
   ]
  },
  {
   "cell_type": "code",
   "execution_count": 2,
   "metadata": {},
   "outputs": [
    {
     "name": "stdout",
     "output_type": "stream",
     "text": [
      "Choose address of intrsuments:\n"
     ]
    },
    {
     "data": {
      "application/vnd.jupyter.widget-view+json": {
       "model_id": "c71d78c85a52451696c73d2f58b18fbb",
       "version_major": 2,
       "version_minor": 0
      },
      "text/plain": [
       "ToggleButtons(button_style='success', description='VNA', options=('ASRL4::INSTR', 'ASRL5::INSTR'), value='ASRL…"
      ]
     },
     "metadata": {},
     "output_type": "display_data"
    }
   ],
   "source": [
    "print(\"Choose address of intrsuments:\")\n",
    "VNA_address =widgets.ToggleButtons(\n",
    "    options=vna_dict,\n",
    "    description=\"VNA\",\n",
    "    disabled=False,\n",
    "    button_style='success', # 'success', 'info', 'warning', 'danger' or ''\n",
    "    tooltips=[],\n",
    "#     icons=['check'] * 3\n",
    ")\n",
    "\n",
    "VNA_address"
   ]
  },
  {
   "cell_type": "code",
   "execution_count": 3,
   "metadata": {},
   "outputs": [
    {
     "data": {
      "application/vnd.jupyter.widget-view+json": {
       "model_id": "d16efff8c6a045f1ad2e2ad625c3af0c",
       "version_major": 2,
       "version_minor": 0
      },
      "text/plain": [
       "ToggleButtons(button_style='success', description='Power Sup.', options=('ASRL4::INSTR', 'ASRL5::INSTR'), valu…"
      ]
     },
     "metadata": {},
     "output_type": "display_data"
    }
   ],
   "source": [
    "KEPCO_address = widgets.ToggleButtons(\n",
    "    options=vna_dict,\n",
    "    description=\"Power Sup.\",\n",
    "    disabled=False,\n",
    "    button_style='success', # 'success', 'info', 'warning', 'danger' or ''\n",
    "    tooltips=[],\n",
    "#     icons=['check'] * 3\n",
    ")\n",
    "KEPCO_address"
   ]
  },
  {
   "cell_type": "markdown",
   "metadata": {},
   "source": [
    "## Reading Magnetic Field"
   ]
  },
  {
   "cell_type": "code",
   "execution_count": null,
   "metadata": {},
   "outputs": [],
   "source": [
    "ser = serial.Serial('COM3', 57600,bytesize=7, parity=serial.PARITY_ODD, stopbits=1)  # open serial port\n",
    "\n",
    "print(ser.port)         # check which port was really used\n",
    "ser.write(b'*IDN?\\n')     # write a string\n",
    "id_name = ser.readline()\n",
    "#ser.flush()\n",
    "print(id_name.decode('utf8'))\n",
    "ser.write(b'RDGFIELD?\\n')\n",
    "Field = ser.readline()\n",
    "#ser.flush()\n",
    "print(Field.decode('utf8'))\n",
    "\n",
    "ser.close()             # close port"
   ]
  },
  {
   "cell_type": "markdown",
   "metadata": {},
   "source": [
    "## KEPCO Control"
   ]
  },
  {
   "cell_type": "code",
   "execution_count": null,
   "metadata": {},
   "outputs": [],
   "source": [
    "KEPCO.timeout=10000\n",
    "KEPCO.write(\"FUNC:MODE CURR\")\n",
    "KEPCO.write(\"volt  20.000;curr {:.6f}\".format(START_CURR))\n",
    "KEPCO.write(\"OUTPUT ON\")\n",
    "for i in range(0,10):\n",
    "    print(i)\n",
    "    time.sleep(1)\n",
    "KEPCO.write(\"OUTPUT OFF\")\n",
    "KEPCO.write(\"volt 0.000;curr 0.000\")\n",
    "\n",
    "\n",
    "result = KEPCO.read()\n",
    "print(result)"
   ]
  },
  {
   "cell_type": "markdown",
   "metadata": {},
   "source": [
    "## VNA Control"
   ]
  },
  {
   "cell_type": "code",
   "execution_count": null,
   "metadata": {},
   "outputs": [],
   "source": [
    "vna.timeout=10000\n",
    "vna.write(\"SYST:PRESET\")\n",
    "vna.write(\"CALC:PAR:DEF 'My_S21', S21\")\n",
    "vna.write(\"DISPlay:WINDow1:STATe ON\")\n",
    "vna.write(\"DISPlay:WINDow1:TRACe1:FEED 'My_S21'\")\n",
    "vna.write(\"INITiate1:CONTinuous OFF;*OPC?\")\n",
    "opc = vna.read() # wait unitl complete\n",
    "\n",
    "vna.write(\"SENSe1:SWEep:TRIGger:POINt OFF\")\n",
    "vna.write(\"SENSe1:SWEep:POINts 201\")\n",
    "vna.write(\"SENSe1:SWEep:TIME 200\")\n",
    "vna.write(\"SENSe1:FREQuency:STARt 5000000000\")\n",
    "vna.write(\"SENSe1:FREQuency:STOP 5000000000\")\n",
    "\n",
    "\n",
    "\n",
    "#### Here start to give a current\n",
    "sweep_current = 30\n",
    "sweep_pts = 201\n",
    "KEPCO = rm.open_resource(KEPCO_address.value)\n",
    "\n",
    "KEPCO.timeout=10000\n",
    "KEPCO.write(\"FUNC:MODE CURR\")\n",
    "KEPCO.write(\"volt 0.000;curr 0.000\")\n",
    "KEPCO.write(\"OUTPUT ON\")\n",
    "Field_data = []\n",
    "Current_data = []\n",
    "#### Start to run VNA and Power Supply\n",
    "vna.write(\"INITiate1;\")\n",
    "for i in range(sweep_pts):\n",
    "    KEPCO.write(\"volt  20.000;curr {:.4f}\".format(i*sweep_current/(sweep_pts-1)))\n",
    "    time.sleep(1)\n",
    "    Current = str(i*sweep_current/(sweep_pts-1))\n",
    "    Current_data.append(Current)\n",
    "    ser.write(b'RDGFIELD?\\n')\n",
    "    Field = ser.readline()\n",
    "    Field_data.append(Field.decode('utf8'))\n",
    "    time.sleep(0.1)\n",
    "\n",
    "KEPCO.write(\"OUTPUT OFF\")\n",
    "KEPCO.write(\"volt 0.000;curr 0.000\")\n",
    "####\n",
    "\n",
    "opc = vna.read() # wait until conplete\n",
    " \n",
    "#Must select the measurement before we can read the data\n",
    "vna.write(\"CALCulate1:PARameter:SELect 'My_S11'\")\n",
    " \n",
    "#Read the measurement data into the \"result\" string variable\n",
    "vna.write(\"FORMat ASCII\")\n",
    "vna.write(\"CALCulate1:DATA? FDATA\")\n",
    "result = vna.read()\n",
    "print(result)"
   ]
  }
 ],
 "metadata": {
  "kernelspec": {
   "display_name": "Python 3",
   "language": "python",
   "name": "python3"
  },
  "language_info": {
   "codemirror_mode": {
    "name": "ipython",
    "version": 3
   },
   "file_extension": ".py",
   "mimetype": "text/x-python",
   "name": "python",
   "nbconvert_exporter": "python",
   "pygments_lexer": "ipython3",
   "version": "3.6.7"
  },
  "nteract": {
   "version": "nteract-on-jupyter@1.9.15"
  }
 },
 "nbformat": 4,
 "nbformat_minor": 2
}
