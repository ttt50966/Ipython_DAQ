{
 "cells": [
  {
   "cell_type": "markdown",
   "metadata": {},
   "source": [
    "# FMR Angle Dependence"
   ]
  },
  {
   "cell_type": "markdown",
   "metadata": {},
   "source": [
    "## Kittel formula and others relationships\n",
    "**notice that the $\\theta$ and $\\theta_{H}$ here is direction to the out-of-plane**\n",
    "\n",
    "$2H_{res}\\cdot sin(\\theta-\\theta_{H})= 4\\pi M_{eff}\\cdot sin(2\\theta) ---- (1)$ \n",
    "\n",
    "\n",
    "$\\omega/\\gamma= \\sqrt{H_{1} H_{2}} ---- (2)$\n",
    "\n",
    "\n",
    "$H_{1}= H_{res}\\cdot cos(\\theta_{H}-\\theta)-4\\pi M_{eff}\\cdot cos(2\\theta) ---- (3)$\n",
    "\n",
    "\n",
    "$H_{2}= H_{res}\\cdot cos(\\theta_{H}-\\theta)-4\\pi M_{eff}\\cdot cos^{2}(\\theta) ----- (4)$\n",
    "\n",
    "$4\\pi M_{eff} \\equiv M$\n",
    "\n",
    "$H_{res}\\cdot cos(\\theta_{H}-\\theta)\\equiv\\sqrt{{H_{res}}^{2}-(\\frac{M}{2}sin 2\\theta)^{2}}$\n",
    "\n",
    "From $(2)$\n",
    "\n",
    "$2\\pi f/\\gamma=[(\\sqrt{{H_{res}}^{2}-(\\frac{M}{2}sin 2\\theta)^{2}}-M\\cdot cos 2\\theta)\\cdot (\\sqrt{{H_{res}}^{2}-(\\frac{M}{2}sin 2\\theta)^{2}}-M\\cdot cos^{2} \\theta)]^{1/2}$\n",
    "\n",
    "## Final Form\n",
    "$2\\pi f/\\gamma=[(\\sqrt{{H_{res}}^{2}-(\\frac{M}{2}sin 2\\theta)^{2}}-M\\cdot cos2\\theta)\\cdot (\\sqrt{{H_{res}}^{2}-(\\frac{M}{2}sin 2\\theta)^{2}}-M\\cdot \\frac{1+cos2\\theta}{2})]^{1/2}$"
   ]
  },
  {
   "cell_type": "markdown",
   "metadata": {},
   "source": [
    "## Residue Function\n",
    "\n",
    "$H_{res} \\equiv y$\n",
    "\n",
    "$2\\theta \\equiv x$\n",
    "\n",
    "$F(x,y) = 2 \\pi f = \\gamma \\cdot [(\\sqrt{y^{2}-(\\frac{M}{2}sinx)^{2}}-M \\cdot cosx)\\cdot (\\sqrt{y^{2}-(\\frac{M}{2}sinx)^{2}}-M \\cdot \\frac{1+cosx}{2})]^{1/2}$\n",
    "\n",
    "$f$ = 9.7GHz"
   ]
  },
  {
   "cell_type": "code",
   "execution_count": 42,
   "metadata": {},
   "outputs": [
    {
     "data": {
      "text/html": [
       "<script>requirejs.config({paths: { 'plotly': ['https://cdn.plot.ly/plotly-latest.min']},});if(!window.Plotly) {{require(['plotly'],function(plotly) {window.Plotly=plotly;});}}</script>"
      ],
      "text/vnd.plotly.v1+html": [
       "<script>requirejs.config({paths: { 'plotly': ['https://cdn.plot.ly/plotly-latest.min']},});if(!window.Plotly) {{require(['plotly'],function(plotly) {window.Plotly=plotly;});}}</script>"
      ]
     },
     "metadata": {},
     "output_type": "display_data"
    },
    {
     "data": {
      "application/vnd.plotly.v1+json": {
       "data": [
        {
         "name": "Angle Dependence",
         "type": "scatter",
         "x": [
          -90,
          -60,
          -30,
          -15,
          0,
          15,
          30,
          60,
          90
         ],
         "y": [
          1299.4,
          1498.8,
          2610.5,
          4993.2,
          10083,
          5541,
          2595,
          1525.2,
          1302.3
         ]
        }
       ],
       "layout": {
        "font": {
         "size": 16
        },
        "margin": {
         "b": 70,
         "l": 105,
         "pad": 4,
         "r": 50,
         "t": 50
        },
        "title": "Angle Dependence",
        "titlefont": {
         "size": 32
        },
        "xaxis": {
         "gridcolor": "#bdbdbd",
         "gridwidth": 2,
         "linecolor": "#636363",
         "linewidth": 6,
         "mirror": "ticks",
         "showgrid": true,
         "showline": true,
         "title": "Angle (Deg.)",
         "titlefont": {
          "size": 22
         },
         "zeroline": true,
         "zerolinecolor": "#969696",
         "zerolinewidth": 4
        },
        "yaxis": {
         "gridcolor": "#bdbdbd",
         "gridwidth": 2,
         "linecolor": "#636363",
         "linewidth": 6,
         "mirror": "ticks",
         "showgrid": true,
         "showline": true,
         "title": "Resonance Field (Oe)",
         "titlefont": {
          "size": 22
         },
         "zeroline": true,
         "zerolinecolor": "#969696",
         "zerolinewidth": 4
        }
       }
      },
      "text/html": [
       "<div id=\"355067f9-70dd-4793-9a32-b2519e012191\" style=\"height: 525px; width: 100%;\" class=\"plotly-graph-div\"></div><script type=\"text/javascript\">require([\"plotly\"], function(Plotly) { window.PLOTLYENV=window.PLOTLYENV || {};window.PLOTLYENV.BASE_URL=\"https://plot.ly\";Plotly.newPlot(\"355067f9-70dd-4793-9a32-b2519e012191\", [{\"type\": \"scatter\", \"x\": [-90, -60, -30, -15, 0, 15, 30, 60, 90], \"y\": [1299.4, 1498.8, 2610.5, 4993.2, 10083, 5541, 2595, 1525.2, 1302.3], \"name\": \"Angle Dependence\"}], {\"margin\": {\"l\": 105, \"r\": 50, \"b\": 70, \"t\": 50, \"pad\": 4}, \"title\": \"Angle Dependence\", \"titlefont\": {\"size\": 32}, \"font\": {\"size\": 16}, \"xaxis\": {\"title\": \"Angle (Deg.)\", \"titlefont\": {\"size\": 22}, \"showgrid\": true, \"zeroline\": true, \"showline\": true, \"mirror\": \"ticks\", \"gridcolor\": \"#bdbdbd\", \"gridwidth\": 2, \"zerolinecolor\": \"#969696\", \"zerolinewidth\": 4, \"linecolor\": \"#636363\", \"linewidth\": 6}, \"yaxis\": {\"title\": \"Resonance Field (Oe)\", \"titlefont\": {\"size\": 22}, \"showgrid\": true, \"zeroline\": true, \"showline\": true, \"mirror\": \"ticks\", \"gridcolor\": \"#bdbdbd\", \"gridwidth\": 2, \"zerolinecolor\": \"#969696\", \"zerolinewidth\": 4, \"linecolor\": \"#636363\", \"linewidth\": 6}}, {\"showLink\": true, \"linkText\": \"Export to plot.ly\"})});</script>"
      ],
      "text/vnd.plotly.v1+html": [
       "<div id=\"355067f9-70dd-4793-9a32-b2519e012191\" style=\"height: 525px; width: 100%;\" class=\"plotly-graph-div\"></div><script type=\"text/javascript\">require([\"plotly\"], function(Plotly) { window.PLOTLYENV=window.PLOTLYENV || {};window.PLOTLYENV.BASE_URL=\"https://plot.ly\";Plotly.newPlot(\"355067f9-70dd-4793-9a32-b2519e012191\", [{\"type\": \"scatter\", \"x\": [-90, -60, -30, -15, 0, 15, 30, 60, 90], \"y\": [1299.4, 1498.8, 2610.5, 4993.2, 10083, 5541, 2595, 1525.2, 1302.3], \"name\": \"Angle Dependence\"}], {\"margin\": {\"l\": 105, \"r\": 50, \"b\": 70, \"t\": 50, \"pad\": 4}, \"title\": \"Angle Dependence\", \"titlefont\": {\"size\": 32}, \"font\": {\"size\": 16}, \"xaxis\": {\"title\": \"Angle (Deg.)\", \"titlefont\": {\"size\": 22}, \"showgrid\": true, \"zeroline\": true, \"showline\": true, \"mirror\": \"ticks\", \"gridcolor\": \"#bdbdbd\", \"gridwidth\": 2, \"zerolinecolor\": \"#969696\", \"zerolinewidth\": 4, \"linecolor\": \"#636363\", \"linewidth\": 6}, \"yaxis\": {\"title\": \"Resonance Field (Oe)\", \"titlefont\": {\"size\": 22}, \"showgrid\": true, \"zeroline\": true, \"showline\": true, \"mirror\": \"ticks\", \"gridcolor\": \"#bdbdbd\", \"gridwidth\": 2, \"zerolinecolor\": \"#969696\", \"zerolinewidth\": 4, \"linecolor\": \"#636363\", \"linewidth\": 6}}, {\"showLink\": true, \"linkText\": \"Export to plot.ly\"})});</script>"
      ]
     },
     "metadata": {},
     "output_type": "display_data"
    }
   ],
   "source": [
    "x_degree = [0, 30, 60, 75, 90, 105, 120, 150, 180]\n",
    "for i in range(len(x_degree)):\n",
    "    x_degree[i] = x_degree[i] - 90\n",
    "    \n",
    "y_origin = [1299.4, 1498.8, 2610.5, 4993.2, 10083, 5541, 2595, 1525.2, 1302.3]\n",
    "data = []\n",
    "for item in range(len(x_degree)):\n",
    "    data.append([x_degree[item], y_origin[item]])\n",
    "\n",
    "import plotly.plotly as py\n",
    "from plotly.offline import download_plotlyjs, init_notebook_mode, plot, iplot, offline\n",
    "init_notebook_mode(connected=True)\n",
    "import plotly.graph_objs as go\n",
    "trace = go.Scatter(x=x_degree, y=y_origin, name='Angle Dependence')\n",
    "# layout seetings\n",
    "layout = go.Layout(\n",
    "    margin = dict(l = 105, r = 50, b = 70, t = 50, pad = 4),\n",
    "    title = 'Angle Dependence',\n",
    "    titlefont = dict(size=32),\n",
    "    font = dict(size=16),\n",
    "    xaxis=dict(\n",
    "        title = 'Angle (Deg.)',\n",
    "        titlefont=dict(\n",
    "            size=22,\n",
    "        ),\n",
    "        showgrid=True,\n",
    "        zeroline=True,\n",
    "        showline=True,\n",
    "        mirror='ticks',\n",
    "        gridcolor='#bdbdbd',\n",
    "        gridwidth=2,\n",
    "        zerolinecolor='#969696',\n",
    "        zerolinewidth=4,\n",
    "        linecolor='#636363',\n",
    "        linewidth=6\n",
    "    ),\n",
    "    yaxis=dict(\n",
    "        title = 'Resonance Field (Oe)',\n",
    "        titlefont=dict(\n",
    "            size=22,\n",
    "        ),\n",
    "        showgrid=True,\n",
    "        zeroline=True,\n",
    "        showline=True,\n",
    "        mirror='ticks',\n",
    "        gridcolor='#bdbdbd',\n",
    "        gridwidth=2,\n",
    "        zerolinecolor='#969696',\n",
    "        zerolinewidth=4,\n",
    "        linecolor='#636363',\n",
    "        linewidth=6\n",
    "    )\n",
    ")\n",
    "iplot({\"data\":[trace],\"layout\":layout}, filename='Angle Dependence')\n"
   ]
  },
  {
   "cell_type": "markdown",
   "metadata": {},
   "source": [
    "## Start to build a fitting model (By lmfit)"
   ]
  },
  {
   "cell_type": "code",
   "execution_count": 50,
   "metadata": {},
   "outputs": [
    {
     "name": "stdout",
     "output_type": "stream",
     "text": [
      "[0.26179939] 0\n"
     ]
    }
   ],
   "source": [
    "import numpy as np\n",
    "from scipy.optimize import fsolve\n",
    "\n",
    "# define residual function\n",
    "\n",
    "H_res = 0\n",
    "theta_H = 0\n",
    "theta = 0\n",
    "def f(M):\n",
    "    y= 2*H_res*np.sin(theta-theta_H) - M*np.sin(2*theta)\n",
    "    return y\n",
    "\n",
    "H_res = 5541\n",
    "theta_H = 15/180*np.pi\n",
    "theta_\n",
    "M = fsolve(f, 100)\n",
    "print(x,M)"
   ]
  },
  {
   "cell_type": "code",
   "execution_count": null,
   "metadata": {},
   "outputs": [],
   "source": []
  }
 ],
 "metadata": {
  "kernelspec": {
   "display_name": "Python 3",
   "language": "python",
   "name": "python3"
  },
  "language_info": {
   "codemirror_mode": {
    "name": "ipython",
    "version": 3
   },
   "file_extension": ".py",
   "mimetype": "text/x-python",
   "name": "python",
   "nbconvert_exporter": "python",
   "pygments_lexer": "ipython3",
   "version": "3.6.7"
  }
 },
 "nbformat": 4,
 "nbformat_minor": 2
}
